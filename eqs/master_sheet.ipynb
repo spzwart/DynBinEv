{
 "cells": [
  {
   "cell_type": "code",
   "execution_count": 1,
   "metadata": {},
   "outputs": [],
   "source": [
    "from sympy import *\n",
    "init_printing(use_latex=True, long_frac_ratio=5)\n",
    "import numpy as np"
   ]
  },
  {
   "cell_type": "markdown",
   "metadata": {},
   "source": [
    "## Unperturbed two-body problem solution\n",
    "\n",
    "$$ h = r^2 \\, \\dot{\\nu} = \\sqrt{\\mu \\, a \\, (1 - e^2)} $$"
   ]
  },
  {
   "cell_type": "markdown",
   "metadata": {},
   "source": [
    "$$ v^2 = \\mu \\left(\\frac{2}{r} - \\frac{1}{a} \\right)$$\n",
    "$$ v = \\sqrt{\\frac{\\mu}{a}} \\frac{\\sqrt{1 - e^2 \\cos^2{E}}}{r} = \\sqrt{\\frac{\\mu}{a}}{\\sqrt{1-e^2}} \\sqrt{1 + 2e\\cos{\\nu} + e^2} $$ "
   ]
  },
  {
   "cell_type": "markdown",
   "metadata": {},
   "source": [
    "$$ M = E - e\\,\\sin{E} $$"
   ]
  },
  {
   "cell_type": "markdown",
   "metadata": {},
   "source": [
    "$$ \\dot{E} = \\frac{n}{1 - e\\,\\cos{E}}  = \\frac{1}{r} \\sqrt{\\frac{\\mu}{a^3}}$$"
   ]
  },
  {
   "cell_type": "markdown",
   "metadata": {},
   "source": [
    "$$ \\frac{dM}{dE} = 1 - e \\cos{E} = \\frac{r}{a}$$"
   ]
  },
  {
   "cell_type": "markdown",
   "metadata": {},
   "source": [
    "$$ \\frac{dM}{d\\nu} = \\frac{n}{\\dot{\\nu}} = \\frac{1}{\\dot{\\nu}}  \\sqrt{\\frac{\\mu}{a^3}} = \\frac{r^2}{h} \\sqrt{\\frac{\\mu}{a^3}} = \\frac{r^2}{a^2 \\sqrt{1 - e^2}} = \\frac{(1-e^2)^{3/2}}{(1+\\cos{\\nu})^2}$$"
   ]
  },
  {
   "cell_type": "markdown",
   "metadata": {},
   "source": [
    "$$ r = a (1 - e \\cos{E}) = \\frac{a (1 - e^2)}{1 + e \\cos{\\nu}} $$"
   ]
  },
  {
   "cell_type": "markdown",
   "metadata": {},
   "source": [
    "$$ \\dot{r} = \\frac{r^2 \\, e \\sin{\\nu}}{a(1 - e^2)} \\dot{\\nu} = \\sqrt{\\frac{\\mu}{a}} \\frac{e}{\\sqrt{1 - e^2}}\\sin{\\nu} = \\frac{\\sqrt{a\\mu}\\,e}{r} \\sin{E} = \\sqrt{\\frac{\\mu}{a}}\\frac{e\\,\\sin{E}}{1 - e \\cos{E}} $$ "
   ]
  },
  {
   "cell_type": "markdown",
   "metadata": {},
   "source": [
    "$$ \\dot{\\nu} = \\frac{\\sqrt{a \\mu (1 - e^2) }}{r^2} = \\frac{(1+e\\cos{\\nu})^2}{(1-e^2)^{3/2}} \\sqrt{\\frac{\\mu}{a^3}} $$"
   ]
  },
  {
   "cell_type": "markdown",
   "metadata": {},
   "source": [
    "## Perturbative equations"
   ]
  },
  {
   "cell_type": "markdown",
   "metadata": {},
   "source": [
    "Given a perturbative acceleration $ \\vec{f} = f_r \\, \\hat{r} + f_\\nu \\, \\hat{\\nu} + f_{n}\\, \\hat{n}$, where the $\\hat{}$ symbols denote unit vectors:"
   ]
  },
  {
   "cell_type": "markdown",
   "metadata": {},
   "source": [
    "$$\\dot{a} = \\frac{2 a^2}{\\mu} \\left( \\dot{r} \\,f_r + r \\,\\dot{\\nu}\\, f_\\nu \\right) $$"
   ]
  },
  {
   "cell_type": "markdown",
   "metadata": {},
   "source": [
    "$$ \\dot{h} = r \\, f_\\nu$$"
   ]
  },
  {
   "cell_type": "markdown",
   "metadata": {},
   "source": [
    "$$ \\dot{\\omega} = \\left(\\frac{1}{r} - \\frac{\\varepsilon}{e \\mu} \\cos{\\nu} \\right) \\left( \\frac{2 h \\dot{h}}{e \\mu \\sin{\\nu}} \\right) - \\frac{h^2}{e^2 \\mu^2} \\dot{\\varepsilon} \\cos{\\nu} - \\dot{\\Omega} \\cos{i} $$"
   ]
  },
  {
   "cell_type": "markdown",
   "metadata": {},
   "source": [
    "$$ \\dot{\\omega} = \\frac{h}{e \\mu} \\left( \\frac{2+e\\cos{\\nu}}{1+e\\cos{\\nu}} f_\\nu \\sin{\\nu} - \\cos{\\nu} f_r \\right) - \\dot{\\Omega} \\cos{i}$$ "
   ]
  },
  {
   "cell_type": "markdown",
   "metadata": {},
   "source": [
    "$$\\dot{e} = \\frac{1 - e^2}{e} \\left(\\frac{\\dot{a}}{2\\,a} - \\frac{\\dot{h}}{h} \\right) $$"
   ]
  },
  {
   "cell_type": "markdown",
   "metadata": {},
   "source": [
    "$$ \\dot{\\nu} = \\frac{(1+e\\cos{\\nu})^2}{(1-e^2)^{3/2}} \\sqrt{\\frac{\\mu}{a^3}} - \\dot{\\omega} - \\dot{\\Omega} \\cos{i} $$"
   ]
  },
  {
   "cell_type": "markdown",
   "metadata": {},
   "source": [
    "### Drag force formalism"
   ]
  },
  {
   "cell_type": "markdown",
   "metadata": {},
   "source": [
    "The drag force per unit mass is :\n",
    "$$\\vec{f} = - C \\, \\frac{v^l}{r^k} \\hat{v} $$\n",
    "where $C$ is a constant with physical dimensions $[C] = L^{l-k-1} T^{2-l}$. Hereafter, to calculate the averaged equations we drop $C$ for convenience, and we reintroduce it later.  "
   ]
  },
  {
   "cell_type": "markdown",
   "metadata": {},
   "source": [
    "Decomposing the force in radial and tangential components, where $\\alpha$ is the angle between position and velocity vectors $\\vec{r}$ and $\\vec{v}$:\n",
    "$$\\vec{f} = f_r\\, \\hat{r} + f_\\nu\\, \\hat{\\nu} = \\frac{v^l}{r^k} \\cos{\\alpha} \\, \\hat{r} + \\frac{v^l}{r^k} \\sin{\\alpha} \\, \\hat{\\nu} $$"
   ]
  },
  {
   "cell_type": "markdown",
   "metadata": {},
   "source": [
    "\\begin{equation}\n",
    "f_r = \\frac{v^l}{r^k} \\frac{\\dot{r}}{v} = \\frac{\\dot{r}}{r^k} v^{l-1}\n",
    "\\end{equation}\n",
    "\n",
    "\\begin{equation}\n",
    "f_\\nu = \\frac{v^l}{r^k} \\frac{r\\,\\dot{\\nu}}{v} = \\frac{r\\,\\dot{\\nu}}{r^k} v^{l-1}\n",
    "\\end{equation}"
   ]
  },
  {
   "cell_type": "markdown",
   "metadata": {},
   "source": [
    "### Phase dependent evolution"
   ]
  },
  {
   "cell_type": "markdown",
   "metadata": {},
   "source": [
    "$$ f_r \\,\\dot{r} = \\frac{\\dot{r}^{2}}{r^k} v^{l-1} = \\frac{e^2}{1-e^2} \\frac{\\mu}{a} \\,\\sin^2{\\nu} \\,\\frac{v^{l-1}}{r^{k}} $$\n",
    "\n",
    "$$ f_\\nu \\, \\dot{\\nu} = \\frac{r^2 \\dot{\\nu}^{2}}{r^k} v^{l-1} = a \\mu (1-e^2) \\frac{v^{l-1}}{r^{k+2}} $$\n",
    "\n",
    "$$ f_\\nu \\, r = \\frac{r^2 \\dot{\\nu}}{r^k} v^{l-1} = \\sqrt{a \\mu (1-e^2)} \\frac{v^{l-1}}{r^k} $$\n",
    "\n",
    "$$ \\frac{f_{\\nu}}{1+e\\cos{\\nu}}  = \\frac{f_r}{e \\sin{\\nu}} = \\mu^{\\frac{l}{2}} \\, \\left[a (1-e^2) \\right]^{-\\frac{l+2k}{2}} \\,(1+e\\cos{\\nu})^k \\, (1+2e\\cos{\\nu}+e^2)^{\\frac{l-1}{2}} $$"
   ]
  },
  {
   "cell_type": "markdown",
   "metadata": {},
   "source": [
    "Because the force has no normal component, $\\dot{\\Omega} = \\dot{i} = 0$.  \n",
    "Variation of $a$:\n",
    "$$ \\dot{a} = \\frac{2 a}{1-e^2} \\left(1 + e^2 + 2 e \\cos{\\nu} \\right) \\frac{v^{l-1}}{r^k} $$"
   ]
  },
  {
   "cell_type": "markdown",
   "metadata": {},
   "source": [
    "$$\\dot{a} = 2\\, \\mu^{\\frac{l-1}{2}} \\, a^{\\frac{3-l-2k}{2}} \\, (1-e^2)^{-\\frac{l+1+2k}{2}} \\, (1+e^2 + 2e\\cos{\\nu})^{\\frac{l+1}{2}} \\, (1+e\\cos{\\nu})^k$$"
   ]
  },
  {
   "cell_type": "markdown",
   "metadata": {},
   "source": [
    "Variation of $h$:\n",
    "$$ \\frac{\\dot{h}}{h} = \\mu^{\\frac{l-1}{2}} \\, a^{\\frac{1-l-2k}{2}} \\, (1-e^2)^{-\\frac{l-1+2k}{2}} (1+e^2 + 2 e \\cos{\\nu})^{\\frac{l-1}{2}} \\, (1+e\\cos{\\nu})^k $$"
   ]
  },
  {
   "cell_type": "markdown",
   "metadata": {},
   "source": [
    "Variation of $e$:\n",
    "$$ \\dot{e} = \\frac{1-e^2}{e} \\left( \\frac{\\dot{a}}{2 a} - \\frac{\\dot{h}}{h} \\right) = \\frac{(1-e^2)^{-\\frac{l-3+2k}{2}}}{e}\\, \\mu^{\\frac{l-1}{2}} \\, a^{\\frac{1-l-2k}{2}} \\, (1 + e \\cos{\\nu})^k \\, (1+e^2 + 2 e \\cos{\\nu})^{\\frac{l-1}{2}} \\,\\left(e^2 + 2 e \\cos{\\nu}\\right)   $$"
   ]
  },
  {
   "cell_type": "markdown",
   "metadata": {},
   "source": [
    "Variation of $\\omega$:\n",
    "\n",
    "$$\\dot{\\omega} = 2 \\mu^{\\frac{l-1}{2}}\\, a^{-\\frac{l-1+2k}{2}} \\,\\frac{(1-e^2)^{-\\frac{l+2k-1}{2}}}{e}\\, (1+e\\cos{\\nu})^k \\, (1+e^2 + 2 e \\cos{\\nu})^{\\frac{l-1}{2}} $$"
   ]
  },
  {
   "cell_type": "markdown",
   "metadata": {},
   "source": [
    "Together with\n",
    "$$ \\dot{\\nu} = \\frac{(1+e\\cos{\\nu})^2}{(1-e^2)^{3/2}} \\sqrt{\\frac{\\mu}{a^3}} - \\dot{\\omega} $$\n",
    "\n",
    "these equations constitute a closed system of differential equations"
   ]
  },
  {
   "cell_type": "markdown",
   "metadata": {},
   "source": []
  },
  {
   "cell_type": "markdown",
   "metadata": {},
   "source": [
    "##### Case $l=2$, $k=0$\n",
    "\n",
    "\\begin{equation}\n",
    "\\begin{aligned}\n",
    "& \\frac{da}{dt} = - 2 C \\sqrt{a \\,\\mu} \\, \\left(\\frac{1+e^2+2e\\cos{\\nu}}{1-e^2} \\right)^{3/2} \\\\\n",
    "& \\frac{de}{dt} = -C \\sqrt{ \\frac{\\mu}{a}} \\, \\frac{\\sqrt{1-e^2}}{e} \\, \\sqrt{1+e^2+2e\\cos{\\nu}} \\, (e^2 + 2e\\cos{\\nu}) \\\\\n",
    "& \\frac{d\\omega}{dt} = -2 C \\sqrt{\\frac{\\mu}{a}} \\, \\frac{\\sqrt{1+e^2+2e\\cos{\\nu}}}{e \\,\\sqrt{1-e^2}} \\,  \\\\\n",
    "& \\frac{d\\nu}{dt} = \\frac{(1+e\\cos{\\nu})^2}{(1-e^2)^{3/2}} \\sqrt{\\frac{\\mu}{a^3}} - \\dot{\\omega} \\\\\n",
    "\\end{aligned}\n",
    "\\end{equation}"
   ]
  },
  {
   "cell_type": "markdown",
   "metadata": {},
   "source": [
    "\n"
   ]
  },
  {
   "cell_type": "markdown",
   "metadata": {},
   "source": [
    "\\begin{align}\n",
    "& = \\frac{a^3\\,n^2\\,e^2}{2 \\pi} \\int^{2\\pi}_{0} \\frac{\\sin^{2}{E}}{r^{k+1}} dE = \\frac{a^{2-k}\\,n^2\\,e^2}{2 \\pi} \\int^{2\\pi}_{0} \\frac{\\sin^{2}{E}}{(1-e\\cos{E})^{k+1}} dE\\\\\n",
    "& = \\frac{n^2\\,e^2}{2 \\pi \\left(1-e^2\\right)^{3/2}} \\int^{2\\pi}_{0} \\frac{\\sin^{2}{\\nu}}{r^{k-2}} d\\nu = \\frac{n^2 \\, e^2}{2\\pi\\,a^{k-2} \\left(1-e^2 \\right)^{k-1/2} } \\int^{2\\pi}_{0} (1+e\\cos{\\nu})^{k-2} \\sin^{2}{\\nu} \\,d\\nu \\\\\n",
    "\\end{align}\n"
   ]
  },
  {
   "cell_type": "markdown",
   "metadata": {},
   "source": [
    "Integrating the equation in $\\nu$ for $k=2$:\n",
    "$$ \\frac{1}{2\\pi} \\int^{2\\pi}_{0} \\, \\dot{r}\\, F_{r} dM = \\frac{n^2 \\, e^2 \\,}{2(1-e^2)^{3/2}} $$"
   ]
  },
  {
   "cell_type": "markdown",
   "metadata": {},
   "source": [
    "Integrating the tangential component:\n",
    "$$ \\frac{1}{2\\pi} \\int^{2\\pi}_{0} \\, r\\,\\dot{\\nu}\\, F_{\\nu} dM =  \\frac{a^4\\,n^2 (1-e^2)}{2\\pi} \\int^{2\\pi}_{0} \\frac{1}{r^{k+2}} dM $$\n"
   ]
  },
  {
   "cell_type": "markdown",
   "metadata": {},
   "source": [
    "\\begin{align}\n",
    "& = \\frac{a^3\\,n^2 (1-e^2)}{2\\pi} \\int^{2\\pi}_{0} \\frac{1}{r^{k+1}} dE = \\frac{n^2 (1-e^2)}{2\\pi\\, a^{k-2}} \\int^{2\\pi}_{0} \\frac{1}{(1 - e \\cos{E})^{k+1}} dE \\\\\n",
    "& =  \\frac{a^2\\,n^2 \\sqrt{1-e^2}}{2\\pi} \\int^{2\\pi}_{0} \\frac{1}{r^{k}} d\\nu = \\frac{n^2\\,(1-e^2)^{1/2 - k}}{2\\pi\\,a^{k-2}} \\int^{2\\pi}_{0} (1 + e \\cos{\\nu})^k d\\nu \\\\\n",
    "\\end{align}"
   ]
  },
  {
   "cell_type": "markdown",
   "metadata": {},
   "source": [
    "Integrating the equation in $\\nu$ for $k=2$:\n",
    "$$ \\frac{1}{2\\pi} \\int^{2\\pi}_{0} \\, r\\,\\dot{\\nu}\\, F_{\\nu} dM = \\frac{n^2}{ (1-e^2)^{3/2}} \\left(1 + \\frac{e^2}{2}\\right)$$"
   ]
  },
  {
   "cell_type": "markdown",
   "metadata": {},
   "source": [
    "Summing the contributions from the two components: "
   ]
  },
  {
   "cell_type": "markdown",
   "metadata": {},
   "source": [
    "$$ \\dot{a} = \\frac{2}{a^{k-1}\\, (1-e^2)^{k - 1/2}} \\left[ e^2 \\frac{1}{2\\pi}\\int^{2\\pi}_{0} (1+e\\cos{\\nu})^{k-2} \\sin^{2}{\\nu} \\,d\\nu  + \\frac{1}{2\\pi} \\int^{2\\pi}_{0} (1 + e \\cos{\\nu})^k d\\nu \\right]$$"
   ]
  },
  {
   "cell_type": "markdown",
   "metadata": {},
   "source": [
    "For $k=0$:\n",
    "\n",
    "$$ \\frac{1}{2\\pi}\\int^{2\\pi}_{0} \\frac{1}{1-e\\cos{E}} dE = \\frac{1 - \\sqrt{1-e^2}}{e^2}$$ \n",
    "\n"
   ]
  },
  {
   "cell_type": "markdown",
   "metadata": {},
   "source": [
    "$$ \\frac{1}{2\\pi} \\int^{2\\pi}_{0} \\, \\dot{r}\\, F_{r} dM = \\frac{n^2 \\, e^2 \\,}{2(1-e^2)^{3/2}} $$\n",
    "\n",
    "$$ \\dot{a} = \\frac{2}{a\\, n^2} \\left[ \\frac{n^2 \\, e^2 \\,}{2(1-e^2)^{3/2}}  + \\frac{n^2}{ (1-e^2)^{3/2}} \\left(1 + \\frac{e^2}{2}\\right)\\right] = \\frac{2 (1 + e^2)}{a \\left( 1-e^2 \\right)^{3/2}}$$"
   ]
  },
  {
   "cell_type": "markdown",
   "metadata": {},
   "source": [
    "For $k=2$:\n",
    "$$ \\dot{a} = \\frac{2}{a\\, n^2} \\left[ \\frac{n^2 \\, e^2 \\,}{2(1-e^2)^{3/2}}  + \\frac{n^2}{ (1-e^2)^{3/2}} \\left(1 + \\frac{e^2}{2}\\right)\\right] = \\frac{2 (1 + e^2)}{a \\left( 1-e^2 \\right)^{3/2}}$$"
   ]
  },
  {
   "cell_type": "markdown",
   "metadata": {},
   "source": [
    "For $k=4$:\n",
    "$$ \\dot{a} = \\frac{2}{a^{3}(1-e^2)^{7/2}}\\left(\\frac{e^{4}}{2} + \\frac{7 e^{2}}{2} + 1 \\right)$$"
   ]
  },
  {
   "cell_type": "markdown",
   "metadata": {},
   "source": [
    "## Eccentricity: "
   ]
  },
  {
   "cell_type": "markdown",
   "metadata": {},
   "source": [
    "$$r \\,F_\\nu = \\frac{r^2\\dot{\\nu}}{r^{k}}$$"
   ]
  },
  {
   "cell_type": "markdown",
   "metadata": {},
   "source": [
    "Integrating the tangential component:\n",
    "\n",
    "$$ \\frac{1}{2\\pi} \\int^{2\\pi}_{0} \\, r\\, F_{\\nu} dM =  \\frac{1}{2\\pi} \\int^{2\\pi}_{0} \\frac{r^2\\,\\dot{\\nu}}{r^k} dM $$\n"
   ]
  },
  {
   "cell_type": "markdown",
   "metadata": {},
   "source": [
    "$$ = \\frac{n}{2\\pi} \\int^{2\\pi}_{0} \\frac{1}{r^{k-2}} d\\nu  = \\frac{n}{2\\pi \\, a^{k-2} (1-e^2)^{k-2}} \\int_{0}^{2\\pi} (1 + e \\cos{\\nu})^{k-2} d\\nu $$"
   ]
  },
  {
   "cell_type": "markdown",
   "metadata": {},
   "source": [
    "$$ \\dot{h} = \\frac{n}{2\\pi\\,a^{k-2}\\,(1-e^2)^{k-2}} \\frac{1}{2\\pi} \\int_{0}^{2\\pi}(1 + e \\cos{\\nu})^{k-2} d\\nu$$"
   ]
  },
  {
   "cell_type": "markdown",
   "metadata": {},
   "source": [
    "$$ \\frac{\\dot{h}}{h} = \\frac{1}{2\\pi\\,a^{k}\\,(1-e^2)^{k-3/2}} \\int_{0}^{2\\pi} (1 + e \\cos{\\nu})^{k-2} d\\nu$$"
   ]
  },
  {
   "cell_type": "markdown",
   "metadata": {},
   "source": [
    "$$ \\frac{\\dot{h}}{h} = \\frac{1}{2\\pi\\,a^{k}}  \\int_{0}^{2\\pi} \\frac{1}{(1 - e \\cos{E})^{k-1}} dE$$"
   ]
  },
  {
   "cell_type": "markdown",
   "metadata": {},
   "source": [
    "For $k=2$:\n",
    "\n",
    "$$ \\frac{\\dot{h}}{h} = \\frac{1}{a^2 \\, \\sqrt{1-e^2}} $$"
   ]
  },
  {
   "cell_type": "markdown",
   "metadata": {},
   "source": [
    "Summing together with $\\dot{a}/2a$:\n",
    "\n",
    "$$ \\dot{e} = \\frac{1 - e^2}{e} \\left(\\frac{\\dot{a}}{2\\,a} - \\frac{\\dot{h}}{h} \\right) = \\frac{2 e}{a^{2} \\sqrt{1 - e^{2}}}$$"
   ]
  },
  {
   "cell_type": "markdown",
   "metadata": {},
   "source": [
    "Final equations:\n",
    "\n",
    "\\begin{align}\n",
    "\\frac{da}{dt} & = K \\frac{2 (1 + e^2)}{a \\left( 1-e^2 \\right)^{3/2}} \\\\\n",
    "\\frac{de}{dt} & = K \\frac{2 e}{a^{2} \\sqrt{1 - e^{2}}}\n",
    "\\end{align}\n",
    "\n",
    "$K$ is a constant that sets the timescale of the decay. Since it's a drag force, it has negative sign and has physical dimension $L^2 \\, T^{-1}$. We can think $K$ as: \n",
    "\n",
    "$$K = - \\frac{A_{\\rm visc}}{T_{\\rm visc}}$$\n",
    "\n",
    "Where $T_{\\rm visc}$ is a viscosity timescale and $A_{\\rm visc}$ is an effective viscosity area. "
   ]
  },
  {
   "cell_type": "markdown",
   "metadata": {},
   "source": [
    "Given the common envelope formalism, $K$ must be computed from the expected energy loss $E_{\\rm CE}$ during the common envelope evolution, assuming a duration for the common envelope event. We can assume $T_{\\rm CE} = 100-1000$ yr. If we assume that the orbit decays from a circular orbit, $e_0 = 0$, we can find the analytical expression for $a(t)$:\n",
    "\n",
    "$$ a(t) = \\sqrt{a^2_0 + 4\\,K\\,t}$$\n",
    "\n",
    "\n"
   ]
  },
  {
   "cell_type": "markdown",
   "metadata": {},
   "source": [
    "The energy loss per unit mass due to the drag gorce can be also derived as:\n"
   ]
  },
  {
   "cell_type": "markdown",
   "metadata": {},
   "source": [
    "$$ \\frac{d \\varepsilon}{dt} = \\frac{\\mu}{2 a^2} \\frac{da}{dt} = - \\frac{8 K \\varepsilon^3}{\\mu^2} \\frac{1 + e^2}{ \\left( 1-e^2 \\right)^{3/2}}$$"
   ]
  },
  {
   "cell_type": "markdown",
   "metadata": {},
   "source": [
    "Given an initial orbit at $\\varepsilon_0$, and a final orbit at $\\varepsilon_f = \\varepsilon_0 + \\varepsilon_{\\rm CE}$, and assuming $e_0=0$, we can estimate the value of $K$:"
   ]
  },
  {
   "cell_type": "markdown",
   "metadata": {},
   "source": [
    "$$ K =  - \\frac{\\mu^2}{16 T_{\\rm CE}} (\\frac{1}{\\varepsilon_f^2} - \\frac{1}{\\varepsilon_0^2} ) $$"
   ]
  },
  {
   "cell_type": "markdown",
   "metadata": {},
   "source": [
    "Setting $T_{\\rm visc} = T_{\\rm visc}$, we find $A_{\\rm visc} = \\mu^2 (\\frac{1}{\\varepsilon_f^2} - \\frac{1}{\\varepsilon_0^2}) / 16$"
   ]
  },
  {
   "cell_type": "markdown",
   "metadata": {},
   "source": [
    "### Elliptic integral form"
   ]
  },
  {
   "cell_type": "markdown",
   "metadata": {},
   "source": [
    "$$ F \\propto \\frac{v^l}{r^k} $$"
   ]
  },
  {
   "cell_type": "markdown",
   "metadata": {},
   "source": [
    "$$ \\frac{1}{2\\pi} \\int_0^{2\\pi} F_{r}\\, \\dot{r} dM = \\frac{1}{2\\pi} \\int_0^{2\\pi} \\frac{v^{l-1}}{r^{k}}\\, \\dot{r}^2 dM  = \\frac{1}{2\\pi\\,a^2\\,(1-e^2)^{1/2}} \\int_0^{2\\pi} \\frac{v^{l-1}\\,\\dot{r}^2}{r^{k-2}} d\\nu =$$\n",
    "\n",
    "$$ = \\frac{n^{l+1}}{2\\pi\\,a^{k-2l+1}\\,(1-e^2)^{k+l/2-1}} \\int_0^{2\\pi} (1 + 2 e \\cos{\\nu} + e^2)^{\\frac{l-1}{2}} \\,(1 + e\\cos{\\nu})^{k-2} \\,\\sin^{2}{\\nu}  \\,d\\nu $$"
   ]
  },
  {
   "cell_type": "markdown",
   "metadata": {},
   "source": [
    "$$ \\frac{1}{2\\pi} \\int_0^{2\\pi} F_{\\nu}\\, r\\,\\dot{\\nu} dM = \\frac{1}{2\\pi} \\int_0^{2\\pi} \\frac{v^{l-1}}{r^{k}}\\, (r \\dot{\\nu})^2 dM  = \\frac{a^4\\,n^2\\,(1-e^2)}{2\\pi} \\int_0^{2\\pi} \\frac{v^{l-1}}{r^{k+2}} dM=$$\n",
    "\n",
    "$$ = \\frac{a^2\\,n^2\\,(1-e^2)^{1/2}}{2\\pi} \\int_0^{2\\pi} \\frac{v^{l-1}}{r^{k}} d\\nu = \\frac{n^{l+1}}{2\\pi\\,a^{k-2l+1}\\,(1-e^2)^{k+l/2-1}} \\int_0^{2\\pi} (1 + 2 e \\cos{\\nu} + e^2)^{\\frac{l-1}{2}} \\,(1 + e\\cos{\\nu})^{k-2} \\,\\sin^{2}{\\nu}  \\,d\\nu $$"
   ]
  },
  {
   "cell_type": "markdown",
   "metadata": {},
   "source": []
  },
  {
   "cell_type": "code",
   "execution_count": null,
   "metadata": {},
   "outputs": [],
   "source": []
  }
 ],
 "metadata": {
  "kernelspec": {
   "display_name": "Python 3",
   "language": "python",
   "name": "python3"
  },
  "language_info": {
   "codemirror_mode": {
    "name": "ipython",
    "version": 3
   },
   "file_extension": ".py",
   "mimetype": "text/x-python",
   "name": "python",
   "nbconvert_exporter": "python",
   "pygments_lexer": "ipython3",
   "version": "3.8.7"
  }
 },
 "nbformat": 4,
 "nbformat_minor": 4
}
