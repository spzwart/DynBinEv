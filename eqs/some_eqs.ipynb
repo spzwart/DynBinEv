{
 "cells": [
  {
   "cell_type": "code",
   "execution_count": 1,
   "metadata": {},
   "outputs": [
    {
     "data": {
      "text/latex": [
       "\n",
       "$$M = m_1 + m_2$$\n",
       "\n",
       "$$\\vec{r} = \\vec{r}_2 - \\vec{r}_1$$\n",
       "$$\\vec{v} = \\vec{v}_2 - \\vec{v}_1$$\n",
       "$$\\vec{v} = \\vec{v}_\\theta + \\vec{v}_r$$\n",
       "$$\\vec{v}_\\theta \\cdot \\vec{r} = 0$$\n",
       "$$\\vec{v}_r \\times \\vec{r} = 0$$\n",
       "\n"
      ],
      "text/plain": [
       "<IPython.core.display.Latex object>"
      ]
     },
     "metadata": {},
     "output_type": "display_data"
    }
   ],
   "source": [
    "%%latex\n",
    "\n",
    "$$M = m_1 + m_2$$\n",
    "\n",
    "$$\\vec{r} = \\vec{r}_2 - \\vec{r}_1$$\n",
    "$$\\vec{v} = \\vec{v}_2 - \\vec{v}_1$$\n",
    "$$\\vec{v} = \\vec{v}_\\theta + \\vec{v}_r$$\n",
    "$$\\vec{v}_\\theta \\cdot \\vec{r} = 0$$\n",
    "$$\\vec{v}_r \\times \\vec{r} = 0$$\n",
    "\n"
   ]
  },
  {
   "cell_type": "code",
   "execution_count": 48,
   "metadata": {},
   "outputs": [
    {
     "data": {
      "text/latex": [
       "\n",
       "$$h = r v_\\theta$$\n",
       "$$h^2 = GMa(1-e^2)$$\n",
       "\n",
       "$$\\mathcal{E} = - \\frac{GM}{2a}$$\n",
       "$$\\mathcal{E} = \\frac{1}{2} v_\\theta^2 + \\frac{1}{2} v_r^2 - \\frac{GM}{r} $$\n",
       "\n",
       "\n",
       "$$\\frac{2\\dot{h}}{h} = \\frac{\\dot{a}}{a} + \\frac{\\dot{M}}{M} - \\frac{2e\\dot{e}}{1-e^2}$$\n",
       "$$\\frac{\\dot{\\mathcal{E}}}{\\mathcal{E}} = \\frac{\\dot{M}}{M} - \\frac{\\dot{a}}{a}$$\n"
      ],
      "text/plain": [
       "<IPython.core.display.Latex object>"
      ]
     },
     "metadata": {},
     "output_type": "display_data"
    }
   ],
   "source": [
    "%%latex\n",
    "\n",
    "$$h = r v_\\theta$$\n",
    "$$h^2 = GMa(1-e^2)$$\n",
    "\n",
    "$$\\mathcal{E} = - \\frac{GM}{2a}$$\n",
    "$$\\mathcal{E} = \\frac{1}{2} v_\\theta^2 + \\frac{1}{2} v_r^2 - \\frac{GM}{r} $$\n",
    "\n",
    "$$\\frac{2\\dot{h}}{h} = \\frac{\\dot{a}}{a} + \\frac{\\dot{M}}{M} - \\frac{2e\\dot{e}}{1-e^2}$$\n",
    "$$\\frac{\\dot{\\mathcal{E}}}{\\mathcal{E}} = \\frac{\\dot{M}}{M} - \\frac{\\dot{a}}{a}$$"
   ]
  },
  {
   "cell_type": "code",
   "execution_count": 100,
   "metadata": {},
   "outputs": [
    {
     "data": {
      "text/latex": [
       "$$\\delta\\mathcal{E} = \\delta T + \\delta U$$\n",
       "$$\\delta\\mathcal{E} = v_\\theta \\,\\delta v_\\theta + v_r \\,\\delta v_r - \\frac{G\\,\\delta M}{r}$$\n",
       "$$\\delta h = r \\,\\delta v_\\theta$$\n",
       "\n",
       "Mass accretion + momentum transfer.\n",
       "Accretor: $$m_1$$\n",
       "Accreted tangentially: $$\\delta m_1$$\n",
       "Conservation of linear momentum: $$\\delta v_{\\theta} = \\delta v_{\\theta,1} = -\\dfrac{\\delta m_1}{m_1} \\Delta v = -\\dfrac{\\delta m_1}{m_1} v_\\theta $$\n"
      ],
      "text/plain": [
       "<IPython.core.display.Latex object>"
      ]
     },
     "metadata": {},
     "output_type": "display_data"
    }
   ],
   "source": [
    "%%latex\n",
    "$$\\delta\\mathcal{E} = \\delta T + \\delta U$$\n",
    "$$\\delta\\mathcal{E} = v_\\theta \\,\\delta v_\\theta + v_r \\,\\delta v_r - \\frac{G\\,\\delta M}{r}$$\n",
    "$$\\delta h = r \\,\\delta v_\\theta$$\n",
    "\n",
    "Mass accretion + momentum transfer.\n",
    "Accretor: $$m_1$$\n",
    "Accreted tangentially: $$\\delta m_1$$\n",
    "Conservation of linear momentum: $$\\delta v_{\\theta} = \\delta v_{\\theta,1} = -\\dfrac{\\delta m_1}{m_1} \\Delta v = -\\dfrac{\\delta m_1}{m_1} v_\\theta $$\n"
   ]
  },
  {
   "cell_type": "code",
   "execution_count": 104,
   "metadata": {},
   "outputs": [
    {
     "data": {
      "text/latex": [
       "$$\\delta\\mathcal{E} = -\\frac{\\delta m_1}{m_1} v^2_\\theta + v_r \\,\\delta v_r - \\frac{G \\,\\delta M}{r} $$\n"
      ],
      "text/plain": [
       "<IPython.core.display.Latex object>"
      ]
     },
     "metadata": {},
     "output_type": "display_data"
    }
   ],
   "source": [
    "%%latex\n",
    "$$\\delta\\mathcal{E} = -\\frac{\\delta m_1}{m_1} v^2_\\theta + v_r \\,\\delta v_r - \\frac{G \\,\\delta M}{r} $$"
   ]
  },
  {
   "cell_type": "code",
   "execution_count": 120,
   "metadata": {},
   "outputs": [
    {
     "data": {
      "text/latex": [
       "$$  \\langle \\frac{\\delta m_1}{m_1} v^2_\\theta \\rangle = \\langle \\frac{\\delta m_1}{m_1} \\frac{h^2}{r^2} \\rangle =  \\frac{\\delta m_1}{m_1} h^2\\langle \\frac{1}{r^2} \\rangle $$\n",
       "$$ \\langle \\frac{G \\,\\delta M}{r} \\rangle = G \\,\\delta M \\langle\\frac{1}{r}\\rangle = \\frac{G \\,\\delta M}{a}$$\n"
      ],
      "text/plain": [
       "<IPython.core.display.Latex object>"
      ]
     },
     "metadata": {},
     "output_type": "display_data"
    }
   ],
   "source": [
    "%%latex\n",
    "$$ \\langle \\frac{\\delta m_1}{m_1} v^2_\\theta \\rangle = \\langle \\frac{\\delta m_1}{m_1} \\frac{h^2}{r^2} \\rangle =  \\frac{\\delta m_1}{m_1} h^2\\langle \\frac{1}{r^2} \\rangle $$\n",
    "$$ \\langle \\frac{G \\,\\delta M}{r} \\rangle = G \\,\\delta M \\langle\\frac{1}{r}\\rangle = \\frac{G \\,\\delta M}{a}$$"
   ]
  },
  {
   "cell_type": "code",
   "execution_count": 126,
   "metadata": {},
   "outputs": [
    {
     "data": {
      "text/latex": [
       "$$\\frac{\\delta{\\mathcal{E}}}{\\mathcal{E}} = -\\frac{\\delta m_1}{m_1} \\frac{h^2}{\\mathcal{E}} \\langle \\frac{1}{r^2} \\rangle + \\frac{v_r}{\\mathcal{E}} \\,\\delta v_r - \\frac{G \\,\\delta M}{a \\mathcal{E}} $$\n",
       "$$\\frac{\\dot{\\mathcal{E}}}{\\mathcal{E}} = -\\frac{\\dot{m_1}}{m_1} \\frac{h^2}{\\mathcal{E}} \\langle \\frac{1}{r^2} \\rangle + \\frac{v_r}{\\mathcal{E}} \\,\\dot{v_r} + \\frac{2\\dot{M}}{M} $$\n",
       "\n",
       "$$\\frac{\\dot{a}}{a} = - \\frac{\\dot{\\mathcal{E}}}{\\mathcal{E}} + \\frac{\\dot{M}}{M} = - \\frac{\\dot T}{\\mathcal{E}} - \\frac{\\dot U}{\\mathcal{E}} + \\frac{\\dot{M}}{M}$$\n",
       "\n",
       "$$\\frac{\\dot{a}}{a} = - \\frac{\\dot T}{\\mathcal{E}} - \\frac{2\\dot{M}}{M} + \\frac{\\dot{M}}{M} = -\\frac{\\dot{M}}{M} - \\frac{\\dot T}{\\mathcal{E}}$$\n",
       "\n",
       "$$\\frac{\\dot{a}}{a} = -\\frac{\\dot{M}}{M} + \\frac{\\dot{m_1}}{m_1} \\frac{h^2}{\\mathcal{E}} \\langle \\frac{1}{r^2} \\rangle - \\frac{v_r}{\\mathcal{E}} \\,\\dot{v_r} $$\n",
       "\n"
      ],
      "text/plain": [
       "<IPython.core.display.Latex object>"
      ]
     },
     "metadata": {},
     "output_type": "display_data"
    }
   ],
   "source": [
    "%%latex\n",
    "$$\\frac{\\delta{\\mathcal{E}}}{\\mathcal{E}} = -\\frac{\\delta m_1}{m_1} \\frac{h^2}{\\mathcal{E}} \\langle \\frac{1}{r^2} \\rangle + \\frac{v_r}{\\mathcal{E}} \\,\\delta v_r - \\frac{G \\,\\delta M}{a \\mathcal{E}} $$\n",
    "$$\\frac{\\dot{\\mathcal{E}}}{\\mathcal{E}} = -\\frac{\\dot{m_1}}{m_1} \\frac{h^2}{\\mathcal{E}} \\langle \\frac{1}{r^2} \\rangle + \\frac{v_r}{\\mathcal{E}} \\,\\dot{v_r} + \\frac{2\\dot{M}}{M} $$\n",
    "\n",
    "$$\\frac{\\dot{a}}{a} = - \\frac{\\dot{\\mathcal{E}}}{\\mathcal{E}} + \\frac{\\dot{M}}{M} = - \\frac{\\dot T}{\\mathcal{E}} - \\frac{\\dot U}{\\mathcal{E}} + \\frac{\\dot{M}}{M}$$\n",
    "\n",
    "$$\\frac{\\dot{a}}{a} = - \\frac{\\dot T}{\\mathcal{E}} - \\frac{2\\dot{M}}{M} + \\frac{\\dot{M}}{M} = -\\frac{\\dot{M}}{M} - \\frac{\\dot T}{\\mathcal{E}}$$\n",
    "\n",
    "$$\\frac{\\dot{a}}{a} = -\\frac{\\dot{M}}{M} + \\frac{\\dot{m_1}}{m_1} \\frac{h^2}{\\mathcal{E}} \\langle \\frac{1}{r^2} \\rangle - \\frac{v_r}{\\mathcal{E}} \\,\\dot{v_r} $$"
   ]
  },
  {
   "cell_type": "code",
   "execution_count": 3,
   "metadata": {},
   "outputs": [
    {
     "data": {
      "text/latex": [
       "No radial $\\delta v_r$ and $\\langle \\dfrac{1}{r^2} \\rangle = \\dfrac{1}{a^2\\sqrt{1-e^2}}$\n",
       "\n",
       "$$\\frac{\\dot{a}}{a} = -\\frac{\\dot{M}}{M} - \\frac{\\dot{m_1}}{m_1} 2 \\sqrt{1-e^2} $$\n",
       "\n",
       "$$\\frac{2 e \\dot{e}}{1 - e^2} = \\frac{\\dot{M}}{M} + \\frac{\\dot{a}}{a} - \\frac{2\\dot{h}}{h}$$\n"
      ],
      "text/plain": [
       "<IPython.core.display.Latex object>"
      ]
     },
     "metadata": {},
     "output_type": "display_data"
    }
   ],
   "source": [
    "%%latex\n",
    "No radial $\\delta v_r$ and $\\langle \\dfrac{1}{r^2} \\rangle = \\dfrac{1}{a^2\\sqrt{1-e^2}}$\n",
    "\n",
    "$$\\frac{\\dot{a}}{a} = -\\frac{\\dot{M}}{M} - \\frac{\\dot{m_1}}{m_1} 2 \\sqrt{1-e^2} $$\n",
    "\n",
    "$$\\frac{2 e \\dot{e}}{1 - e^2} = \\frac{\\dot{M}}{M} + \\frac{\\dot{a}}{a} - \\frac{2\\dot{h}}{h}$$"
   ]
  },
  {
   "cell_type": "code",
   "execution_count": 141,
   "metadata": {},
   "outputs": [
    {
     "data": {
      "text/latex": [
       "$$\\frac{2e\\dot{e}}{1-e^2} = -\\frac{2\\dot{h}}{h} + \\frac{\\dot{a}}{a} + \\frac{\\dot{M}}{M} $$\n"
      ],
      "text/plain": [
       "<IPython.core.display.Latex object>"
      ]
     },
     "metadata": {},
     "output_type": "display_data"
    }
   ],
   "source": [
    "%%latex\n",
    "$$\\frac{2e\\dot{e}}{1-e^2} = -\\frac{2\\dot{h}}{h} + \\frac{\\dot{a}}{a} + \\frac{\\dot{M}}{M} $$\n"
   ]
  },
  {
   "cell_type": "code",
   "execution_count": 156,
   "metadata": {},
   "outputs": [
    {
     "data": {
      "text/latex": [
       "$$\\dot{v_\\theta} = \\frac{\\dot{h}}{r} $$\n",
       "\n",
       "$$\\dot{a} + a \\frac{\\dot{M}}{M} = - \\frac{a}{\\mathcal{E}} \\left(\\dot{h}\\frac{v_\\theta}{r} + v_r\\,\\dot{v_r}\\right) $$\n",
       "\n",
       "$$\\dot{a}_{\\rm \\dot{M}\\text{-}correct} =  \\frac{2a^2}{G M} \\left(\\dot{h}\\frac{v_\\theta}{r} + v_r\\,\\dot{v_r}\\right) $$\n",
       "\n",
       "$$\\dot{v_r}\\,v_r = \\frac{G M}{2a^2}\\dot{a}_{\\rm \\dot{M}\\text{-}correct}  - \\dot{h} \\frac{v_\\theta}{r} $$\n"
      ],
      "text/plain": [
       "<IPython.core.display.Latex object>"
      ]
     },
     "metadata": {},
     "output_type": "display_data"
    }
   ],
   "source": [
    "%%latex\n",
    "$$\\dot{v_\\theta} = \\frac{\\dot{h}}{r} $$\n",
    "\n",
    "$$\\dot{a} + a \\frac{\\dot{M}}{M} = - \\frac{a}{\\mathcal{E}} \\left(\\dot{h}\\frac{v_\\theta}{r} + v_r\\,\\dot{v_r}\\right) $$\n",
    "\n",
    "$$\\dot{a}_{\\rm \\dot{M}\\text{-}correct} =  \\frac{2a^2}{G M} \\left(\\dot{h}\\frac{v_\\theta}{r} + v_r\\,\\dot{v_r}\\right) $$\n",
    "\n",
    "$$\\dot{v_r}\\,v_r = \\frac{G M}{2a^2}\\dot{a}_{\\rm \\dot{M}\\text{-}correct}  - \\dot{h} \\frac{v_\\theta}{r} $$"
   ]
  },
  {
   "cell_type": "code",
   "execution_count": null,
   "metadata": {},
   "outputs": [],
   "source": []
  }
 ],
 "metadata": {
  "kernelspec": {
   "display_name": "Python 3",
   "language": "python",
   "name": "python3"
  },
  "language_info": {
   "codemirror_mode": {
    "name": "ipython",
    "version": 3
   },
   "file_extension": ".py",
   "mimetype": "text/x-python",
   "name": "python",
   "nbconvert_exporter": "python",
   "pygments_lexer": "ipython3",
   "version": "3.7.6"
  }
 },
 "nbformat": 4,
 "nbformat_minor": 2
}
