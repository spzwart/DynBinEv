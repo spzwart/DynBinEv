{
 "cells": [
  {
   "cell_type": "code",
   "execution_count": 1,
   "metadata": {},
   "outputs": [],
   "source": [
    "from sympy import *\n",
    "init_printing(use_latex=True, long_frac_ratio=5)\n",
    "import numpy as np"
   ]
  },
  {
   "cell_type": "code",
   "execution_count": 2,
   "metadata": {},
   "outputs": [
    {
     "data": {
      "image/png": "[encoded data removed]",
      "text/latex": [
       "$\\displaystyle r = \\frac{a \\left(1 - e^{2}\\right)}{e \\cos{\\left(\\theta \\right)} + 1}$"
      ],
      "text/plain": [
       "          ⎛     2⎞   \n",
       "        a⋅⎝1 - e ⎠   \n",
       "r = ─────────────────\n",
       "    e⋅cos(\\theta) + 1"
      ]
     },
     "metadata": {},
     "output_type": "display_data"
    },
    {
     "data": {
      "image/png": "[encoded data removed]",
      "text/latex": [
       "$\\displaystyle \\frac{dr}{d\\theta} = \\frac{a e \\left(1 - e^{2}\\right) \\sin{\\left(\\theta \\right)}}{\\left(e \\cos{\\left(\\theta \\right)} + 1\\right)^{2}}$"
      ],
      "text/plain": [
       "                         ⎛     2⎞            \n",
       "                     a⋅e⋅⎝1 - e ⎠⋅sin(\\theta)\n",
       "\\frac{dr}{d\\theta} = ────────────────────────\n",
       "                                          2  \n",
       "                       (e⋅cos(\\theta) + 1)   "
      ]
     },
     "metadata": {},
     "output_type": "display_data"
    },
    {
     "data": {
      "image/png": "[encoded data removed]",
      "text/latex": [
       "$\\displaystyle \\dot{r} = \\frac{e \\sqrt{G a \\left(m_{1} + m_{2}\\right)} \\sin{\\left(\\theta \\right)}}{a \\left(1 - e^{2}\\right)}$"
      ],
      "text/plain": [
       "              _______________            \n",
       "          e⋅╲╱ G⋅a⋅(m₁ + m₂) ⋅sin(\\theta)\n",
       "\\dot{r} = ───────────────────────────────\n",
       "                       ⎛     2⎞          \n",
       "                     a⋅⎝1 - e ⎠          "
      ]
     },
     "metadata": {},
     "output_type": "display_data"
    },
    {
     "data": {
      "image/png": "[encoded data removed]",
      "text/latex": [
       "$\\displaystyle h = \\sqrt{\\mu a \\left(1 - e^{2}\\right)}$"
      ],
      "text/plain": [
       "       ________________\n",
       "      ╱       ⎛     2⎞ \n",
       "h = ╲╱  \\mu⋅a⋅⎝1 - e ⎠ "
      ]
     },
     "metadata": {},
     "output_type": "display_data"
    },
    {
     "data": {
      "image/png": "[encoded data removed]",
      "text/latex": [
       "$\\displaystyle h = \\frac{d\\theta}{dt} r^{2}$"
      ],
      "text/plain": [
       "                        2\n",
       "h = \\frac{d\\theta}{dt}⋅r "
      ]
     },
     "metadata": {},
     "output_type": "display_data"
    },
    {
     "data": {
      "image/png": "[encoded data removed]",
      "text/latex": [
       "$\\displaystyle P = 2 \\pi \\sqrt{\\frac{a^{3}}{G \\left(m_{1} + m_{2}\\right)}}$"
      ],
      "text/plain": [
       "             _____________\n",
       "            ╱       3     \n",
       "           ╱       a      \n",
       "P = 2⋅π⋅  ╱   ─────────── \n",
       "        ╲╱    G⋅(m₁ + m₂) "
      ]
     },
     "metadata": {},
     "output_type": "display_data"
    },
    {
     "data": {
      "image/png": "[encoded data removed]",
      "text/latex": [
       "$\\displaystyle r = a \\left(- e \\cos{\\left(E \\right)} + 1\\right)$"
      ],
      "text/plain": [
       "r = a⋅(-e⋅cos(E) + 1)"
      ]
     },
     "metadata": {},
     "output_type": "display_data"
    },
    {
     "data": {
      "image/png": "[encoded data removed]",
      "text/latex": [
       "$\\displaystyle \\frac{dM}{dE} = - e \\cos{\\left(E \\right)} + 1$"
      ],
      "text/plain": [
       "dM                \n",
       "── = -e⋅cos(E) + 1\n",
       "dE                "
      ]
     },
     "metadata": {},
     "output_type": "display_data"
    }
   ],
   "source": [
    "r, v, eps, n = symbols(\"r v \\\\varepsilon n\")\n",
    "rthprime, rthdot = symbols(\"\\\\frac{dr}{d\\\\theta} \\\\dot{r}\")\n",
    "\n",
    "rtheta, rthetap, vel = symbols(\"r_th r_th^i vel\")\n",
    "a, e, G, th, m1, m2 = symbols(\"a e G \\\\theta m1 m2\")\n",
    "GM = symbols(\"\\\\mu\")\n",
    "e = Symbol(\"e\", real=True, positive=True)\n",
    "E = Symbol(\"E\", real=True)\n",
    "nu = Symbol(\"nu\", real=True)\n",
    "\n",
    "\n",
    "mu = m1*m2/(m1+m2)\n",
    "L = sqrt(a*G*(m1+m2))*mu\n",
    "h = sqrt(GM*a*(1-e*e))\n",
    "\n",
    "P = 2*pi*sqrt(a*a*a/ (G*(m1+m2)))\n",
    "\n",
    "rtheta = a*(1-e**2)/(1 + e*cos(th))\n",
    "rthetap = diff(rtheta, th)\n",
    "rthetadot = L/mu*(e*sin(th))/(1+e*cos(th))/rtheta\n",
    "\n",
    "rE = a*(1-e*cos(E))\n",
    "dMdE = (1 - e*cos(E))\n",
    "#rE = refine(rE, Q.is_true(e<1))\n",
    "#dMdE = refine(dMdE, Q.is_true(e<1))\n",
    "\n",
    "#a*(1-e**2)/(1 + e*cos(th))**2 *e*sin(th)\n",
    "vel = sqrt(mu/(a*(1-e**2)))*e*sin(th)\n",
    "\n",
    "display(Eq(r,rtheta))\n",
    "display(Eq(rthprime, rthetap))\n",
    "display(Eq(rthdot, rthetadot))\n",
    "display(Eq(S(\"h\"), h))\n",
    "dthetadt = symbols(\"\\\\frac{d\\\\theta}{dt}\")\n",
    "display(Eq(S(\"h\"), r*r*dthetadt))\n",
    "\n",
    "\n",
    "display(Eq(S(\"P\"), P))\n",
    "\n",
    "display(Eq(r, rE))\n",
    "display(Eq(S(\"dM/dE\"), dMdE))"
   ]
  },
  {
   "cell_type": "code",
   "execution_count": 3,
   "metadata": {},
   "outputs": [
    {
     "data": {
      "image/png": "[encoded data removed]",
      "text/latex": [
       "$\\displaystyle \\frac{a \\left(e^{2} + 2\\right)}{2}$"
      ],
      "text/plain": [
       "  ⎛ 2    ⎞\n",
       "a⋅⎝e  + 2⎠\n",
       "──────────\n",
       "    2     "
      ]
     },
     "metadata": {},
     "output_type": "display_data"
    },
    {
     "data": {
      "image/png": "[encoded data removed]",
      "text/latex": [
       "$\\displaystyle \\frac{1}{a}$"
      ],
      "text/plain": [
       "1\n",
       "─\n",
       "a"
      ]
     },
     "metadata": {},
     "output_type": "display_data"
    }
   ],
   "source": [
    "aver = integrate(rE*dMdE/(2*pi), (E, 0, 2*pi)) \n",
    "aver2 = integrate(1/rE*dMdE/(2*pi), (E, 0, 2*pi)) \n",
    "\n",
    "\n",
    "display(aver.simplify())\n",
    "display(aver2.simplify())"
   ]
  },
  {
   "cell_type": "code",
   "execution_count": 4,
   "metadata": {},
   "outputs": [
    {
     "data": {
      "image/png": "[encoded data removed]",
      "text/latex": [
       "$\\displaystyle \\frac{\\sin^{2}{\\left(E \\right)}}{\\left(- e \\cos{\\left(E \\right)} + 1\\right)^{2}}$"
      ],
      "text/plain": [
       "       2        \n",
       "    sin (E)     \n",
       "────────────────\n",
       "               2\n",
       "(-e⋅cos(E) + 1) "
      ]
     },
     "metadata": {},
     "output_type": "display_data"
    }
   ],
   "source": [
    "Rave = sin(E)**2 / (1 - e*cos(E))**2\n",
    "\n",
    "display(Rave)\n",
    "#aver3 = integrate(Rave/(2*pi), (E, 0, 2*pi)) \n",
    "#display(aver3.simplify())"
   ]
  },
  {
   "cell_type": "code",
   "execution_count": 5,
   "metadata": {},
   "outputs": [
    {
     "data": {
      "image/png": "[encoded data removed]",
      "text/latex": [
       "$\\displaystyle \\frac{\\sin^{2}{\\left(E \\right)}}{- e \\cos{\\left(E \\right)} + 1}$"
      ],
      "text/plain": [
       "      2      \n",
       "   sin (E)   \n",
       "─────────────\n",
       "-e⋅cos(E) + 1"
      ]
     },
     "metadata": {},
     "output_type": "display_data"
    }
   ],
   "source": [
    "Rave = sin(E)**2 / (1 - e*cos(E))**1\n",
    "\n",
    "display(Rave)\n",
    "#aver3 = integrate(Rave/(2*pi), (E, 0, 2*pi)) \n",
    "#display(aver3.simplify())"
   ]
  },
  {
   "cell_type": "code",
   "execution_count": 6,
   "metadata": {},
   "outputs": [
    {
     "data": {
      "image/png": "[encoded data removed]",
      "text/latex": [
       "$\\displaystyle \\sin^{2}{\\left(\\nu \\right)}$"
      ],
      "text/plain": [
       "   2   \n",
       "sin (ν)"
      ]
     },
     "metadata": {},
     "output_type": "display_data"
    },
    {
     "data": {
      "image/png": "[encoded data removed]",
      "text/latex": [
       "$\\displaystyle \\frac{1}{2}$"
      ],
      "text/plain": [
       "1/2"
      ]
     },
     "metadata": {},
     "output_type": "display_data"
    }
   ],
   "source": [
    "#### radial part\n",
    "### k = 2\n",
    "Rave = sin(nu)**2\n",
    "display(Rave)\n",
    "\n",
    "aver3 = integrate(Rave/(2*pi), (nu, 0, 2*pi)) \n",
    "display(aver3.simplify())"
   ]
  },
  {
   "cell_type": "code",
   "execution_count": 7,
   "metadata": {},
   "outputs": [
    {
     "data": {
      "image/png": "[encoded data removed]",
      "text/latex": [
       "$\\displaystyle \\left(e \\cos{\\left(\\nu \\right)} + 1\\right)^{2} \\sin^{2}{\\left(\\nu \\right)}$"
      ],
      "text/plain": [
       "              2    2   \n",
       "(e⋅cos(ν) + 1) ⋅sin (ν)"
      ]
     },
     "metadata": {},
     "output_type": "display_data"
    },
    {
     "data": {
      "image/png": "[encoded data removed]",
      "text/latex": [
       "$\\displaystyle \\frac{e^{2}}{8} + \\frac{1}{2}$"
      ],
      "text/plain": [
       " 2    \n",
       "e    1\n",
       "── + ─\n",
       "8    2"
      ]
     },
     "metadata": {},
     "output_type": "display_data"
    }
   ],
   "source": [
    "#### radial part\n",
    "### k = 4\n",
    "nu = S(\"nu\")\n",
    "Rave = sin(nu)**2 * (1 + e*cos(nu))**2\n",
    "display(Rave)\n",
    "\n",
    "aver3 = integrate(Rave/(2*pi), (nu, 0, 2*pi)) \n",
    "display(aver3.simplify())\n",
    "\n",
    "integral_n4_rad = aver3.simplify()"
   ]
  },
  {
   "cell_type": "code",
   "execution_count": 8,
   "metadata": {},
   "outputs": [
    {
     "data": {
      "image/png": "[encoded data removed]",
      "text/latex": [
       "$\\displaystyle \\left(e \\cos{\\left(\\nu \\right)} + 1\\right)^{4} \\sin^{2}{\\left(\\nu \\right)}$"
      ],
      "text/plain": [
       "              4    2   \n",
       "(e⋅cos(ν) + 1) ⋅sin (ν)"
      ]
     },
     "metadata": {},
     "output_type": "display_data"
    },
    {
     "data": {
      "image/png": "[encoded data removed]",
      "text/latex": [
       "$\\displaystyle \\frac{e^{4}}{16} + \\frac{3 e^{2}}{4} + \\frac{1}{2}$"
      ],
      "text/plain": [
       " 4      2    \n",
       "e    3⋅e    1\n",
       "── + ──── + ─\n",
       "16    4     2"
      ]
     },
     "metadata": {},
     "output_type": "display_data"
    }
   ],
   "source": [
    "#### radial part\n",
    "### k = 6\n",
    "nu = S(\"nu\")\n",
    "Rave = sin(nu)**2 * (1 + e*cos(nu))**4\n",
    "display(Rave)\n",
    "\n",
    "aver3 = integrate(Rave/(2*pi), (nu, 0, 2*pi)) \n",
    "display(aver3.simplify())"
   ]
  },
  {
   "cell_type": "code",
   "execution_count": 9,
   "metadata": {},
   "outputs": [
    {
     "data": {
      "image/png": "[encoded data removed]",
      "text/latex": [
       "$\\displaystyle \\left(e \\cos{\\left(\\nu \\right)} + 1\\right)^{6} \\sin^{2}{\\left(\\nu \\right)}$"
      ],
      "text/plain": [
       "              6    2   \n",
       "(e⋅cos(ν) + 1) ⋅sin (ν)"
      ]
     },
     "metadata": {},
     "output_type": "display_data"
    },
    {
     "data": {
      "image/png": "[encoded data removed]",
      "text/latex": [
       "$\\displaystyle \\frac{5 e^{6}}{128} + \\frac{15 e^{4}}{16} + \\frac{15 e^{2}}{8} + \\frac{1}{2}$"
      ],
      "text/plain": [
       "   6       4       2    \n",
       "5⋅e    15⋅e    15⋅e    1\n",
       "──── + ───── + ───── + ─\n",
       "128      16      8     2"
      ]
     },
     "metadata": {},
     "output_type": "display_data"
    }
   ],
   "source": [
    "#### radial part\n",
    "### k = 8\n",
    "nu = S(\"nu\")\n",
    "Rave = sin(nu)**2 * (1 + e*cos(nu))**6\n",
    "display(Rave)\n",
    "\n",
    "aver3 = integrate(Rave/(2*pi), (nu, 0, 2*pi)) \n",
    "display(aver3.simplify())"
   ]
  },
  {
   "cell_type": "code",
   "execution_count": 10,
   "metadata": {},
   "outputs": [
    {
     "data": {
      "image/png": "[encoded data removed]",
      "text/latex": [
       "$\\displaystyle \\left(e \\cos{\\left(\\nu \\right)} + 1\\right)^{8} \\sin^{2}{\\left(\\nu \\right)}$"
      ],
      "text/plain": [
       "              8    2   \n",
       "(e⋅cos(ν) + 1) ⋅sin (ν)"
      ]
     },
     "metadata": {},
     "output_type": "display_data"
    },
    {
     "data": {
      "image/png": "[encoded data removed]",
      "text/latex": [
       "$\\displaystyle \\frac{7 e^{8}}{256} + \\frac{35 e^{6}}{32} + \\frac{35 e^{4}}{8} + \\frac{7 e^{2}}{2} + \\frac{1}{2}$"
      ],
      "text/plain": [
       "   8       6       4      2    \n",
       "7⋅e    35⋅e    35⋅e    7⋅e    1\n",
       "──── + ───── + ───── + ──── + ─\n",
       "256      32      8      2     2"
      ]
     },
     "metadata": {},
     "output_type": "display_data"
    }
   ],
   "source": [
    "#### radial part\n",
    "### k = 10\n",
    "nu = S(\"nu\")\n",
    "Rave = sin(nu)**2 * (1 + e*cos(nu))**8\n",
    "display(Rave)\n",
    "\n",
    "aver3 = integrate(Rave/(2*pi), (nu, 0, 2*pi)) \n",
    "display(aver3.simplify())"
   ]
  },
  {
   "cell_type": "code",
   "execution_count": 11,
   "metadata": {},
   "outputs": [
    {
     "data": {
      "image/png": "[encoded data removed]",
      "text/latex": [
       "$\\displaystyle \\left(e \\cos{\\left(\\nu \\right)} + 1\\right)^{2}$"
      ],
      "text/plain": [
       "              2\n",
       "(e⋅cos(ν) + 1) "
      ]
     },
     "metadata": {},
     "output_type": "display_data"
    },
    {
     "data": {
      "image/png": "[encoded data removed]",
      "text/latex": [
       "$\\displaystyle \\frac{e^{2}}{2} + 1$"
      ],
      "text/plain": [
       " 2    \n",
       "e     \n",
       "── + 1\n",
       "2     "
      ]
     },
     "metadata": {},
     "output_type": "display_data"
    }
   ],
   "source": [
    "#### tangential part\n",
    "### k = 2\n",
    "nu = S(\"nu\")\n",
    "Rave =  (1 + e*cos(nu))**2\n",
    "display(Rave)\n",
    "\n",
    "aver3 = integrate(Rave/(2*pi), (nu, 0, 2*pi)) \n",
    "display(aver3.simplify())"
   ]
  },
  {
   "cell_type": "code",
   "execution_count": 12,
   "metadata": {},
   "outputs": [
    {
     "data": {
      "image/png": "[encoded data removed]",
      "text/latex": [
       "$\\displaystyle \\left(e \\cos{\\left(\\nu \\right)} + 1\\right)^{4}$"
      ],
      "text/plain": [
       "              4\n",
       "(e⋅cos(ν) + 1) "
      ]
     },
     "metadata": {},
     "output_type": "display_data"
    },
    {
     "data": {
      "image/png": "[encoded data removed]",
      "text/latex": [
       "$\\displaystyle \\frac{3 e^{4}}{8} + 3 e^{2} + 1$"
      ],
      "text/plain": [
       "   4           \n",
       "3⋅e       2    \n",
       "──── + 3⋅e  + 1\n",
       " 8             "
      ]
     },
     "metadata": {},
     "output_type": "display_data"
    }
   ],
   "source": [
    "#### tangential part\n",
    "### k = 4\n",
    "nu = S(\"nu\")\n",
    "Rave =  (1 + e*cos(nu))**4\n",
    "display(Rave)\n",
    "\n",
    "aver3 = integrate(Rave/(2*pi), (nu, 0, 2*pi)) \n",
    "display(aver3.simplify())\n",
    "\n",
    "integral_n4_tang = aver3.simplify()"
   ]
  },
  {
   "cell_type": "code",
   "execution_count": 13,
   "metadata": {},
   "outputs": [
    {
     "data": {
      "image/png": "[encoded data removed]",
      "text/latex": [
       "$\\displaystyle \\left(e \\cos{\\left(\\nu \\right)} + 1\\right)^{6}$"
      ],
      "text/plain": [
       "              6\n",
       "(e⋅cos(ν) + 1) "
      ]
     },
     "metadata": {},
     "output_type": "display_data"
    },
    {
     "data": {
      "image/png": "[encoded data removed]",
      "text/latex": [
       "$\\displaystyle \\frac{5 e^{6}}{16} + \\frac{45 e^{4}}{8} + \\frac{15 e^{2}}{2} + 1$"
      ],
      "text/plain": [
       "   6       4       2    \n",
       "5⋅e    45⋅e    15⋅e     \n",
       "──── + ───── + ───── + 1\n",
       " 16      8       2      "
      ]
     },
     "metadata": {},
     "output_type": "display_data"
    }
   ],
   "source": [
    "#### tangential part\n",
    "### k = 6\n",
    "nu = S(\"nu\")\n",
    "Rave =  (1 + e*cos(nu))**6\n",
    "display(Rave)\n",
    "\n",
    "aver3 = integrate(Rave/(2*pi), (nu, 0, 2*pi)) \n",
    "display(aver3.simplify())"
   ]
  },
  {
   "cell_type": "code",
   "execution_count": 14,
   "metadata": {},
   "outputs": [
    {
     "data": {
      "image/png": "[encoded data removed]",
      "text/latex": [
       "$\\displaystyle \\left(e \\cos{\\left(\\nu \\right)} + 1\\right)^{8}$"
      ],
      "text/plain": [
       "              8\n",
       "(e⋅cos(ν) + 1) "
      ]
     },
     "metadata": {},
     "output_type": "display_data"
    },
    {
     "data": {
      "image/png": "[encoded data removed]",
      "text/latex": [
       "$\\displaystyle \\frac{35 e^{8}}{128} + \\frac{35 e^{6}}{4} + \\frac{105 e^{4}}{4} + 14 e^{2} + 1$"
      ],
      "text/plain": [
       "    8       6        4            \n",
       "35⋅e    35⋅e    105⋅e        2    \n",
       "───── + ───── + ────── + 14⋅e  + 1\n",
       " 128      4       4               "
      ]
     },
     "metadata": {},
     "output_type": "display_data"
    }
   ],
   "source": [
    "#### tangential part\n",
    "### k = 8\n",
    "nu = S(\"nu\")\n",
    "Rave =  (1 + e*cos(nu))**8\n",
    "display(Rave)\n",
    "\n",
    "aver3 = integrate(Rave/(2*pi), (nu, 0, 2*pi)) \n",
    "display(aver3.simplify())"
   ]
  },
  {
   "cell_type": "code",
   "execution_count": 15,
   "metadata": {},
   "outputs": [
    {
     "data": {
      "image/png": "[encoded data removed]",
      "text/latex": [
       "$\\displaystyle \\left(e \\cos{\\left(\\nu \\right)} + 1\\right)^{10}$"
      ],
      "text/plain": [
       "              10\n",
       "(e⋅cos(ν) + 1)  "
      ]
     },
     "metadata": {},
     "output_type": "display_data"
    },
    {
     "data": {
      "image/png": "[encoded data removed]",
      "text/latex": [
       "$\\displaystyle \\frac{63 e^{10}}{256} + \\frac{1575 e^{8}}{128} + \\frac{525 e^{6}}{8} + \\frac{315 e^{4}}{4} + \\frac{45 e^{2}}{2} + 1$"
      ],
      "text/plain": [
       "    10         8        6        4       2    \n",
       "63⋅e     1575⋅e    525⋅e    315⋅e    45⋅e     \n",
       "────── + ─────── + ────── + ────── + ───── + 1\n",
       " 256       128       8        4        2      "
      ]
     },
     "metadata": {},
     "output_type": "display_data"
    }
   ],
   "source": [
    "#### tangential part\n",
    "### k = 10\n",
    "nu = S(\"nu\")\n",
    "Rave =  (1 + e*cos(nu))**10\n",
    "display(Rave)\n",
    "\n",
    "aver3 = integrate(Rave/(2*pi), (nu, 0, 2*pi)) \n",
    "display(aver3.simplify())"
   ]
  },
  {
   "cell_type": "code",
   "execution_count": 16,
   "metadata": {},
   "outputs": [
    {
     "data": {
      "image/png": "[encoded data removed]",
      "text/latex": [
       "$\\displaystyle \\frac{e^{4}}{2} + \\frac{7 e^{2}}{2} + 1$"
      ],
      "text/plain": [
       " 4      2    \n",
       "e    7⋅e     \n",
       "── + ──── + 1\n",
       "2     2      "
      ]
     },
     "metadata": {},
     "output_type": "display_data"
    },
    {
     "name": "stdout",
     "output_type": "stream",
     "text": [
      "\\frac{e^{4}}{2} + \\frac{7 e^{2}}{2} + 1\n"
     ]
    }
   ],
   "source": [
    "total_adot_n4 =  integral_n4_tang  + integral_n4_rad * e**2\n",
    "display(total_adot_n4.simplify())\n",
    "print(latex(total_adot_n4.simplify()))"
   ]
  },
  {
   "cell_type": "code",
   "execution_count": 17,
   "metadata": {},
   "outputs": [
    {
     "data": {
      "image/png": "[encoded data removed]",
      "text/latex": [
       "$\\displaystyle 1$"
      ],
      "text/plain": [
       "1"
      ]
     },
     "metadata": {},
     "output_type": "display_data"
    },
    {
     "data": {
      "image/png": "[encoded data removed]",
      "text/latex": [
       "$\\displaystyle 1$"
      ],
      "text/plain": [
       "1"
      ]
     },
     "metadata": {},
     "output_type": "display_data"
    }
   ],
   "source": [
    "#### angmom\n",
    "### k = 2\n",
    "Rave =  (1 + e*cos(nu))**0\n",
    "display(Rave)\n",
    "\n",
    "aver3 = integrate(Rave/(2*pi), (nu, 0, 2*pi)) \n",
    "display(aver3.simplify())"
   ]
  },
  {
   "cell_type": "code",
   "execution_count": 28,
   "metadata": {},
   "outputs": [
    {
     "data": {
      "image/png": "[encoded data removed]",
      "text/latex": [
       "$\\displaystyle - e \\cos{\\left(E \\right)} + 1$"
      ],
      "text/plain": [
       "-e⋅cos(E) + 1"
      ]
     },
     "metadata": {},
     "output_type": "display_data"
    },
    {
     "data": {
      "image/png": "[encoded data removed]",
      "text/latex": [
       "$\\displaystyle 1$"
      ],
      "text/plain": [
       "1"
      ]
     },
     "metadata": {},
     "output_type": "display_data"
    }
   ],
   "source": [
    "#### angmom\n",
    "### k = 0\n",
    "Rave =  (1 - e*cos(E))\n",
    "display(Rave)\n",
    "\n",
    "aver3 = integrate(Rave/(2*pi), (E, 0, 2*pi)) \n",
    "display(aver3.simplify())"
   ]
  },
  {
   "cell_type": "code",
   "execution_count": 26,
   "metadata": {},
   "outputs": [
    {
     "data": {
      "image/png": "[encoded data removed]",
      "text/latex": [
       "$\\displaystyle \\frac{2 e^{2} + 2}{a \\left(1 - e^{2}\\right)^{\\frac{3}{2}}}$"
      ],
      "text/plain": [
       "      2      \n",
       "   2⋅e  + 2  \n",
       "─────────────\n",
       "          3/2\n",
       "  ⎛     2⎞   \n",
       "a⋅⎝1 - e ⎠   "
      ]
     },
     "metadata": {},
     "output_type": "display_data"
    }
   ],
   "source": [
    "adot = 2*(1 + e**2) / (a * (1-e*e)**Rational(3, 2))\n",
    "display(adot)"
   ]
  },
  {
   "cell_type": "code",
   "execution_count": 19,
   "metadata": {},
   "outputs": [
    {
     "data": {
      "image/png": "[encoded data removed]",
      "text/latex": [
       "$\\displaystyle \\frac{1}{e} \\left(1 - e^{2}\\right) \\left(- \\frac{1}{a^{2} \\sqrt{1 - e^{2}}} + \\frac{2 e^{2} + 2}{2 a^{2} \\left(1 - e^{2}\\right)^{\\frac{3}{2}}}\\right)$"
      ],
      "text/plain": [
       "         ⎛                          2        ⎞\n",
       "⎛     2⎞ ⎜        1              2⋅e  + 2    ⎟\n",
       "⎝1 - e ⎠⋅⎜- ────────────── + ────────────────⎟\n",
       "         ⎜        ________                3/2⎟\n",
       "         ⎜   2   ╱      2       2 ⎛     2⎞   ⎟\n",
       "         ⎝  a ⋅╲╱  1 - e     2⋅a ⋅⎝1 - e ⎠   ⎠\n",
       "──────────────────────────────────────────────\n",
       "                      e                       "
      ]
     },
     "metadata": {},
     "output_type": "display_data"
    },
    {
     "data": {
      "image/png": "[encoded data removed]",
      "text/latex": [
       "$\\displaystyle \\frac{2 e}{a^{2} \\sqrt{1 - e^{2}}}$"
      ],
      "text/plain": [
       "     2⋅e      \n",
       "──────────────\n",
       "      ________\n",
       " 2   ╱      2 \n",
       "a ⋅╲╱  1 - e  "
      ]
     },
     "metadata": {},
     "output_type": "display_data"
    },
    {
     "name": "stdout",
     "output_type": "stream",
     "text": [
      "\\frac{2 e}{a^{2} \\sqrt{1 - e^{2}}}\n"
     ]
    }
   ],
   "source": [
    "hdot_h = 1/(a**2 * (1-e*e)**Rational(1, 2))\n",
    "eccdot = (1-e*e)/e * (adot/ (2*a) - hdot_h)\n",
    "\n",
    "display(eccdot)\n",
    "\n",
    "display(eccdot.simplify())\n",
    "print(latex(eccdot.simplify()))"
   ]
  },
  {
   "cell_type": "code",
   "execution_count": 20,
   "metadata": {},
   "outputs": [],
   "source": [
    "### ANGMOM"
   ]
  },
  {
   "cell_type": "markdown",
   "metadata": {},
   "source": [
    "$$ \\frac{\\dot{h}}{h} = \\frac{1}{a^{k}\\,(1-e^2)^{k-3/2}} \\frac{1}{2\\pi} \\int_{0}^{2\\pi} (1 + e \\cos{\\nu})^{k-2} d\\nu$$"
   ]
  },
  {
   "cell_type": "code",
   "execution_count": 21,
   "metadata": {},
   "outputs": [
    {
     "data": {
      "image/png": "[encoded data removed]",
      "text/latex": [
       "$\\displaystyle \\frac{1}{\\left(e \\cos{\\left(\\nu \\right)} + 1\\right)^{2}}$"
      ],
      "text/plain": [
       "       1       \n",
       "───────────────\n",
       "              2\n",
       "(e⋅cos(ν) + 1) "
      ]
     },
     "metadata": {},
     "output_type": "display_data"
    },
    {
     "data": {
      "image/png": "[encoded data removed]",
      "text/latex": [
       "$\\displaystyle \\int\\limits_{- e}^{- e} - \\frac{1}{2 \\pi e \\sqrt{1 - \\frac{t^{2}}{e^{2}}} \\left(t + 1\\right)^{2}}\\, dt$"
      ],
      "text/plain": [
       "-e                                 \n",
       "⌠                                  \n",
       "⎮               -1                 \n",
       "⎮  ───────────────────────────── dt\n",
       "⎮              ________            \n",
       "⎮             ╱      2             \n",
       "⎮            ╱      t          2   \n",
       "⎮  2⋅π⋅e⋅   ╱   1 - ── ⋅(t + 1)    \n",
       "⎮          ╱         2             \n",
       "⎮        ╲╱         e              \n",
       "⌡                                  \n",
       "-e                                 "
      ]
     },
     "metadata": {},
     "output_type": "display_data"
    }
   ],
   "source": [
    "Rave =  1/(1 + e*cos(nu))**2\n",
    "display(Rave)\n",
    "\n",
    "toint = Integral(Rave/(2*pi), (nu, -pi, pi))\n",
    "t = S(\"t\")\n",
    "toint2=toint.transform(nu, (acos(t/e), t))\n",
    "display(toint2)\n",
    "#aver3 = integrate(toint2, (t, 0, 2*pi)) "
   ]
  },
  {
   "cell_type": "code",
   "execution_count": 22,
   "metadata": {},
   "outputs": [
    {
     "data": {
      "image/png": "[encoded data removed]",
      "text/latex": [
       "$\\displaystyle \\frac{\\sin^{2}{\\left(E \\right)}}{- e \\cos{\\left(E \\right)} + 1}$"
      ],
      "text/plain": [
       "      2      \n",
       "   sin (E)   \n",
       "─────────────\n",
       "-e⋅cos(E) + 1"
      ]
     },
     "metadata": {},
     "output_type": "display_data"
    },
    {
     "data": {
      "image/png": "[encoded data removed]",
      "text/latex": [
       "$\\displaystyle \\frac{\\sin^{2}{\\left(\\nu \\right)}}{\\left(e \\cos{\\left(\\nu \\right)} + 1\\right)^{2}}$"
      ],
      "text/plain": [
       "       2       \n",
       "    sin (ν)    \n",
       "───────────────\n",
       "              2\n",
       "(e⋅cos(ν) + 1) "
      ]
     },
     "metadata": {},
     "output_type": "display_data"
    }
   ],
   "source": [
    "### TEST sin(E)^2 / 1-e cos(E)  or  sqrt(1-e^2) sin(nu)^2 / 1+e cos(nu)\n",
    "nu = S(\"nu\")\n",
    "integrando = sin(E)**2 / (1-e* cos(E))\n",
    "integrando_alt = sin(nu)**2 / (1+e* cos(nu))**2\n",
    "\n",
    "display(integrando,integrando_alt)"
   ]
  },
  {
   "cell_type": "code",
   "execution_count": 23,
   "metadata": {},
   "outputs": [],
   "source": [
    "### SOLUZIONE\n",
    "def solz1(e):\n",
    "    f = 2*np.pi*(1- (1-e**2)**0.5 )/(e**2)\n",
    "    return f\n",
    "\n",
    "e_eval = np.linspace(0.0, 0.99, 20)\n",
    "sols = []\n",
    "for eee in e_eval:\n",
    "    nintegr=integrando.subs(e, eee)\n",
    "    sol = Integral(nintegr, (E, 0, 2*pi)).evalf()\n",
    "    sols.append(sol)"
   ]
  },
  {
   "cell_type": "code",
   "execution_count": 24,
   "metadata": {
    "scrolled": true
   },
   "outputs": [
    {
     "data": {
      "text/plain": [
       "<matplotlib.legend.Legend at 0x7fedeb22b340>"
      ]
     },
     "execution_count": 24,
     "metadata": {},
     "output_type": "execute_result"
    },
    {
     "data": {
      "image/png": "[encoded data removed]",
      "text/plain": [
       "<Figure size 720x360 with 1 Axes>"
      ]
     },
     "metadata": {},
     "output_type": "display_data"
    }
   ],
   "source": [
    "import seaborn as sns\n",
    "from matplotlib import pyplot as plt\n",
    "sns.set_style(\"ticks\")\n",
    "sns.set(font_scale=1.5, rc={\"lines.linewidth\": 3.5, 'text.usetex' : True})\n",
    "\n",
    "espace = np.linspace(0.0001, 0.9999, 300)\n",
    "f, ax = plt.subplots(figsize=(10,5))\n",
    "ax.set_xlabel(\"e\")\n",
    "ax.set_ylabel(\"$\\int^{\\pi}_{-\\pi} \\sin^2{E} / (1 - e\\cos{E}) dE$\")\n",
    "\n",
    "ax.plot(espace, solz1(espace), label=\"$2\\pi(1-\\sqrt{1-e^2})/e^2$\")\n",
    "ax.scatter(e_eval, sols, label=\"numerical solution\", c=\"tab:red\", marker=\".\", s=200, zorder=3)\n",
    "\n",
    "extraticks = [np.pi, 3*np.pi/2, 2*np.pi]\n",
    "ax.set_yticks(list(ax.get_yticks()) + extraticks)\n",
    "ax.set_ylim(3.05, 6.3)\n",
    "ax.legend()"
   ]
  },
  {
   "cell_type": "code",
   "execution_count": 17,
   "metadata": {},
   "outputs": [
    {
     "data": {
      "image/png": "[encoded data removed]",
      "text/latex": [
       "$\\displaystyle \\frac{12 \\left(\\frac{37 e^{4}}{96} + \\frac{73 e^{2}}{24} + 1\\right)}{19 e \\left(1 - e^{2}\\right) \\left(\\frac{121 e^{2}}{304} + 1\\right)}$"
      ],
      "text/plain": [
       "     ⎛    4       2    ⎞  \n",
       "     ⎜37⋅e    73⋅e     ⎟  \n",
       "  12⋅⎜───── + ───── + 1⎟  \n",
       "     ⎝  96      24     ⎠  \n",
       "──────────────────────────\n",
       "              ⎛     2    ⎞\n",
       "     ⎛     2⎞ ⎜121⋅e     ⎟\n",
       "19⋅e⋅⎝1 - e ⎠⋅⎜────── + 1⎟\n",
       "              ⎝ 304      ⎠"
      ]
     },
     "metadata": {},
     "output_type": "display_data"
    },
    {
     "data": {
      "image/png": "[encoded data removed]",
      "text/latex": [
       "$\\displaystyle \\frac{12 \\log{\\left(e \\right)}}{19} - \\log{\\left(e^{2} - 1 \\right)} + \\frac{870 \\log{\\left(e^{2} + \\frac{304}{121} \\right)}}{2299}$"
      ],
      "text/plain": [
       "                                 ⎛ 2   304⎞\n",
       "                          870⋅log⎜e  + ───⎟\n",
       "12⋅log(e)      ⎛ 2    ⎞          ⎝     121⎠\n",
       "───────── - log⎝e  - 1⎠ + ─────────────────\n",
       "    19                           2299      "
      ]
     },
     "metadata": {},
     "output_type": "display_data"
    },
    {
     "data": {
      "image/png": "[encoded data removed]",
      "text/latex": [
       "$\\displaystyle \\frac{e^{\\frac{12}{19}} \\left(e^{2} + \\frac{304}{121}\\right)^{\\frac{870}{2299}}}{e^{2} - 1}$"
      ],
      "text/plain": [
       "              870 \n",
       " 12           ────\n",
       " ──           2299\n",
       " 19 ⎛ 2   304⎞    \n",
       "e  ⋅⎜e  + ───⎟    \n",
       "    ⎝     121⎠    \n",
       "──────────────────\n",
       "       2          \n",
       "      e  - 1      "
      ]
     },
     "metadata": {},
     "output_type": "display_data"
    }
   ],
   "source": [
    "e = S(\"e\")\n",
    "a = S(\"a\")\n",
    "a_func_e = Rational(12, 19) * 1/e * ( 1+ Rational(73,24) * e**2 + Rational(37,96) * e**4) / ((1 - e**2)*(1+ Rational(121,304) * e**2) )\n",
    "\n",
    "display(a_func_e)\n",
    "int_a_func_e = integrate(a_func_e, e)\n",
    "display(int_a_func_e)\n",
    "integrated_a_func_e = exp(int_a_func_e)\n",
    "display(integrated_a_func_e)"
   ]
  },
  {
   "cell_type": "code",
   "execution_count": 22,
   "metadata": {},
   "outputs": [
    {
     "data": {
      "image/png": "[encoded data removed]",
      "text/latex": [
       "$\\displaystyle \\frac{a \\left(e^{2} - 1\\right)}{e^{\\frac{12}{19}} \\left(e^{2} + \\frac{304}{121}\\right)^{\\frac{870}{2299}}}$"
      ],
      "text/plain": [
       "      ⎛ 2    ⎞    \n",
       "    a⋅⎝e  - 1⎠    \n",
       "──────────────────\n",
       "              870 \n",
       " 12           ────\n",
       " ──           2299\n",
       " 19 ⎛ 2   304⎞    \n",
       "e  ⋅⎜e  + ───⎟    \n",
       "    ⎝     121⎠    "
      ]
     },
     "metadata": {},
     "output_type": "display_data"
    },
    {
     "data": {
      "image/png": "[encoded data removed]",
      "text/latex": [
       "$\\displaystyle \\frac{a^{4} \\left(e^{2} - 1\\right)^{4}}{e^{\\frac{48}{19}} \\left(e^{2} + \\frac{304}{121}\\right)^{\\frac{3480}{2299}}}$"
      ],
      "text/plain": [
       "              4   \n",
       "    4 ⎛ 2    ⎞    \n",
       "   a ⋅⎝e  - 1⎠    \n",
       "──────────────────\n",
       "              3480\n",
       " 48           ────\n",
       " ──           2299\n",
       " 19 ⎛ 2   304⎞    \n",
       "e  ⋅⎜e  + ───⎟    \n",
       "    ⎝     121⎠    "
      ]
     },
     "metadata": {},
     "output_type": "display_data"
    },
    {
     "data": {
      "image/png": "[encoded data removed]",
      "text/latex": [
       "$\\displaystyle \\tilde{\\infty} a$"
      ],
      "text/plain": [
       "zoo⋅a"
      ]
     },
     "execution_count": 22,
     "metadata": {},
     "output_type": "execute_result"
    }
   ],
   "source": [
    "c0 = a/integrated_a_func_e\n",
    "display(c0)\n",
    "display(c0**4)\n",
    "\n",
    "c0.subs(e,0)"
   ]
  },
  {
   "cell_type": "code",
   "execution_count": 20,
   "metadata": {},
   "outputs": [
    {
     "data": {
      "image/png": "[encoded data removed]",
      "text/latex": [
       "$\\displaystyle \\frac{15}{304}$"
      ],
      "text/plain": [
       " 15\n",
       "───\n",
       "304"
      ]
     },
     "execution_count": 20,
     "metadata": {},
     "output_type": "execute_result"
    }
   ],
   "source": [
    "Rational(5,64) * Rational(12, 19)"
   ]
  },
  {
   "cell_type": "code",
   "execution_count": null,
   "metadata": {},
   "outputs": [],
   "source": []
  }
 ],
 "metadata": {
  "kernelspec": {
   "display_name": "Python 3",
   "language": "python",
   "name": "python3"
  },
  "language_info": {
   "codemirror_mode": {
    "name": "ipython",
    "version": 3
   },
   "file_extension": ".py",
   "mimetype": "text/x-python",
   "name": "python",
   "nbconvert_exporter": "python",
   "pygments_lexer": "ipython3",
   "version": "3.9.7"
  }
 },
 "nbformat": 4,
 "nbformat_minor": 2
}
