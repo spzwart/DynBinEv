{
 "cells": [
  {
   "cell_type": "markdown",
   "metadata": {},
   "source": [
    "## Unperturbed two-body problem solution\n",
    "\n",
    "$$ h = r^2 \\, \\dot{\\nu} = \\sqrt{\\mu \\, a \\, (1 - e^2)} $$"
   ]
  },
  {
   "cell_type": "markdown",
   "metadata": {},
   "source": [
    "$$ v^2 = \\mu \\left(\\frac{2}{r} - \\frac{1}{a} \\right)$$\n",
    "$$ v = \\frac{\\sqrt{\\mu a}}{r} \\sqrt{1 - e^2 \\cos^2{E}} = \\sqrt{\\frac{\\mu}{a(1-e^2)}} \\sqrt{1 + 2e\\cos{\\nu} + e^2} $$ "
   ]
  },
  {
   "cell_type": "markdown",
   "metadata": {},
   "source": [
    "$$ M = E - e\\,\\sin{E} $$"
   ]
  },
  {
   "cell_type": "markdown",
   "metadata": {},
   "source": [
    "$$ \\dot{E} = \\frac{n}{1 - e\\,\\cos{E}}  = \\frac{1}{r} \\sqrt{\\frac{\\mu}{a^3}}$$"
   ]
  },
  {
   "cell_type": "markdown",
   "metadata": {},
   "source": [
    "$$ \\frac{dM}{dE} = 1 - e \\cos{E} = \\frac{r}{a}$$"
   ]
  },
  {
   "cell_type": "markdown",
   "metadata": {},
   "source": [
    "$$ \\frac{dM}{d\\nu} = \\frac{n}{\\dot{\\nu}} = \\frac{1}{\\dot{\\nu}}  \\sqrt{\\frac{\\mu}{a^3}} = \\frac{r^2}{h} \\sqrt{\\frac{\\mu}{a^3}} = \\frac{r^2}{a^2 \\sqrt{1 - e^2}} = \\frac{(1-e^2)^{3/2}}{(1+e\\cos{\\nu})^2}$$"
   ]
  },
  {
   "cell_type": "markdown",
   "metadata": {},
   "source": [
    "$$ r = a (1 - e \\cos{E}) = \\frac{a (1 - e^2)}{1 + e \\cos{\\nu}} $$"
   ]
  },
  {
   "cell_type": "markdown",
   "metadata": {},
   "source": [
    "$$ \\dot{r} = \\frac{r^2 \\, e \\sin{\\nu}}{a(1 - e^2)} \\dot{\\nu} = \\sqrt{\\frac{\\mu}{a}} \\frac{e}{\\sqrt{1 - e^2}}\\sin{\\nu} = \\frac{\\sqrt{a\\mu}\\,e}{r} \\sin{E} = \\sqrt{\\frac{\\mu}{a}}\\frac{e\\,\\sin{E}}{1 - e \\cos{E}} $$ "
   ]
  },
  {
   "cell_type": "markdown",
   "metadata": {},
   "source": [
    "$$ \\dot{\\nu} = \\frac{\\sqrt{a \\mu (1 - e^2) }}{r^2} = \\frac{(1+e\\cos{\\nu})^2}{(1-e^2)^{3/2}} \\sqrt{\\frac{\\mu}{a^3}} $$"
   ]
  },
  {
   "cell_type": "markdown",
   "metadata": {},
   "source": [
    "$$ \\dot{r}^2 + r^2 \\dot{\\nu}^2  = \\frac{\\mu}{a (1-e^2)} (1 + e^2 + 2e\\cos{\\nu})  $$"
   ]
  },
  {
   "cell_type": "markdown",
   "metadata": {},
   "source": [
    "## Perturbative equations"
   ]
  },
  {
   "cell_type": "markdown",
   "metadata": {},
   "source": [
    "Given a perturbative acceleration $ \\vec{f} = f_r \\, \\hat{r} + f_\\nu \\, \\hat{\\nu} + f_{n}\\, \\hat{n}$, where the $\\hat{}$ symbols denote unit vectors:"
   ]
  },
  {
   "cell_type": "markdown",
   "metadata": {},
   "source": [
    "$$\\dot{a} = \\frac{2 a^2}{\\mu} \\left( \\dot{r} \\,f_r + r \\,\\dot{\\nu}\\, f_\\nu \\right) $$"
   ]
  },
  {
   "cell_type": "markdown",
   "metadata": {},
   "source": [
    "$$ \\dot{h} = r \\, f_\\nu$$"
   ]
  },
  {
   "cell_type": "markdown",
   "metadata": {},
   "source": [
    "$$ \\dot{\\omega} = \\left(\\frac{1}{r} - \\frac{\\varepsilon}{e \\mu} \\cos{\\nu} \\right) \\left( \\frac{2 h \\dot{h}}{e \\mu \\sin{\\nu}} \\right) - \\frac{h^2}{e^2 \\mu^2} \\dot{\\varepsilon} \\cot{\\nu} - \\dot{\\Omega} \\cos{i} $$"
   ]
  },
  {
   "cell_type": "markdown",
   "metadata": {},
   "source": [
    "$$ \\dot{\\omega} = \\frac{h}{e \\mu} \\left( \\frac{2+e\\cos{\\nu}}{1+e\\cos{\\nu}} f_\\nu \\sin{\\nu} - \\cos{\\nu} f_r \\right) - \\dot{\\Omega} \\cos{i}$$ "
   ]
  },
  {
   "cell_type": "markdown",
   "metadata": {},
   "source": [
    "$$\\dot{e} = \\frac{1 - e^2}{e} \\left(\\frac{\\dot{a}}{2\\,a} - \\frac{\\dot{h}}{h} \\right) $$"
   ]
  },
  {
   "cell_type": "markdown",
   "metadata": {},
   "source": [
    "$$ \\dot{\\nu} = \\frac{(1+e\\cos{\\nu})^2}{(1-e^2)^{3/2}} \\sqrt{\\frac{\\mu}{a^3}} - \\dot{\\omega} - \\dot{\\Omega} \\cos{i} $$"
   ]
  },
  {
   "cell_type": "markdown",
   "metadata": {},
   "source": [
    "### Drag force formalism"
   ]
  },
  {
   "cell_type": "markdown",
   "metadata": {},
   "source": [
    "The drag force per unit mass is :\n",
    "$$\\vec{f} = - C \\, \\frac{v^l}{r^k} \\hat{v} $$\n",
    "where $C$ is a constant with physical dimensions $[C] = L^{1-l+k} T^{l-2}$. Hereafter, to calculate the averaged equations we drop $C$ for convenience, and we reintroduce it later.  "
   ]
  },
  {
   "cell_type": "markdown",
   "metadata": {},
   "source": [
    "$$ F_{drag} = - C_d \\rho \\, R_b^2 \\, v^2 $$\n",
    "\n",
    "$$ R_b  = \\frac{2 G M}{c_s^2 + v^2}$$"
   ]
  },
  {
   "cell_type": "markdown",
   "metadata": {},
   "source": [
    "$$ C \\propto \\rho / m$$ \n",
    "$$ \\dot{\\varepsilon} \\longrightarrow \\dot{\\rho}$$ "
   ]
  },
  {
   "cell_type": "markdown",
   "metadata": {},
   "source": [
    "Decomposing the force in radial and tangential components, where $\\alpha$ is the angle between position and velocity vectors $\\vec{r}$ and $\\vec{v}$:\n",
    "$$\\vec{f} = f_r\\, \\hat{r} + f_\\nu\\, \\hat{\\nu} = \\frac{v^l}{r^k} \\cos{\\alpha} \\, \\hat{r} + \\frac{v^l}{r^k} \\sin{\\alpha} \\, \\hat{\\nu} $$"
   ]
  },
  {
   "cell_type": "markdown",
   "metadata": {},
   "source": [
    "\\begin{equation}\n",
    "f_r = \\frac{v^l}{r^k} \\frac{\\dot{r}}{v} = \\frac{\\dot{r}}{r^k} v^{l-1}\n",
    "\\end{equation}\n",
    "\n",
    "\\begin{equation}\n",
    "f_\\nu = \\frac{v^l}{r^k} \\frac{r\\,\\dot{\\nu}}{v} = \\frac{r\\,\\dot{\\nu}}{r^k} v^{l-1}\n",
    "\\end{equation}"
   ]
  },
  {
   "cell_type": "markdown",
   "metadata": {},
   "source": [
    "### Phase dependent evolution"
   ]
  },
  {
   "cell_type": "markdown",
   "metadata": {},
   "source": [
    "$$ f_r \\,\\dot{r} = \\frac{\\dot{r}^{2}}{r^k} v^{l-1} = \\frac{e^2}{1-e^2} \\frac{\\mu}{a} \\,\\sin^2{\\nu} \\,\\frac{v^{l-1}}{r^{k}} $$\n",
    "\n",
    "$$ f_\\nu \\,r\\, \\dot{\\nu} = \\frac{r^2 \\dot{\\nu}^{2}}{r^k} v^{l-1} = a \\mu (1-e^2) \\frac{v^{l-1}}{r^{k+2}} $$\n",
    "\n",
    "$$ f_\\nu \\, r = \\frac{r^2 \\dot{\\nu}}{r^k} v^{l-1} = \\sqrt{a \\mu (1-e^2)} \\frac{v^{l-1}}{r^k} $$\n",
    "\n",
    "$$ \\frac{f_{\\nu}}{1+e\\cos{\\nu}}  = \\frac{f_r}{e \\sin{\\nu}} = \\mu^{\\frac{l}{2}} \\, \\left[a (1-e^2) \\right]^{-\\frac{l+2k}{2}} \\,(1+e\\cos{\\nu})^k \\, (1+2e\\cos{\\nu}+e^2)^{\\frac{l-1}{2}} $$"
   ]
  },
  {
   "cell_type": "markdown",
   "metadata": {},
   "source": [
    "Because the force has no normal component, $\\dot{\\Omega} = \\dot{i} = 0$.  \n",
    "Variation of $a$:\n",
    "$$ \\dot{a} = \\frac{2 a}{1-e^2} \\left(1 + e^2 + 2 e \\cos{\\nu} \\right) \\frac{v^{l-1}}{r^k} $$"
   ]
  },
  {
   "cell_type": "markdown",
   "metadata": {},
   "source": [
    "$$\\dot{a} = 2\\, \\mu^{\\frac{l-1}{2}} \\, a^{\\frac{3-l-2k}{2}} \\, (1-e^2)^{-\\frac{l+1+2k}{2}} \\, (1+e^2 + 2e\\cos{\\nu})^{\\frac{l+1}{2}} \\, (1+e\\cos{\\nu})^k$$"
   ]
  },
  {
   "cell_type": "markdown",
   "metadata": {},
   "source": [
    "Variation of $h$:\n",
    "$$ \\frac{\\dot{h}}{h} = \\mu^{\\frac{l-1}{2}} \\, a^{\\frac{1-l-2k}{2}} \\, (1-e^2)^{-\\frac{l-1+2k}{2}} (1+e^2 + 2 e \\cos{\\nu})^{\\frac{l-1}{2}} \\, (1+e\\cos{\\nu})^k $$"
   ]
  },
  {
   "cell_type": "markdown",
   "metadata": {},
   "source": [
    "Variation of $e$:\n",
    "$$ \\dot{e} = \\frac{1-e^2}{e} \\left( \\frac{\\dot{a}}{2 a} - \\frac{\\dot{h}}{h} \\right) = 2(1-e^2)^{-\\frac{l-1+2k}{2}}\\, \\mu^{\\frac{l-1}{2}} \\, a^{\\frac{1-l-2k}{2}} \\, (1 + e \\cos{\\nu})^k \\, (1+e^2 + 2 e \\cos{\\nu})^{\\frac{l-1}{2}} \\,\\left(e + \\cos{\\nu}\\right)   $$"
   ]
  },
  {
   "cell_type": "markdown",
   "metadata": {},
   "source": [
    "Variation of $\\omega$:\n",
    "\n",
    "$$\\dot{\\omega} = 2 \\mu^{\\frac{l-1}{2}}\\, a^{-\\frac{l-1+2k}{2}} \\,\\frac{(1-e^2)^{-\\frac{l-1+2k}{2}}}{e}\\, (1+e\\cos{\\nu})^k \\, (1+e^2 + 2 e \\cos{\\nu})^{\\frac{l-1}{2}} \\, \\sin{\\nu} $$"
   ]
  },
  {
   "cell_type": "markdown",
   "metadata": {},
   "source": [
    "Together with\n",
    "$$ \\dot{\\nu} = \\frac{(1+e\\cos{\\nu})^2}{(1-e^2)^{3/2}} \\sqrt{\\frac{\\mu}{a^3}} - \\dot{\\omega} $$\n",
    "\n",
    "these equations constitute a closed system of differential equations"
   ]
  },
  {
   "cell_type": "markdown",
   "metadata": {},
   "source": [
    "The secular equations are derived by averaging each equation over the mean anomaly $M$. Given a phase-dependent derivative $\\dot{q}(\\nu)$:\n",
    "$$  \\langle \\dot{q} \\rangle  = \\frac{1}{2\\pi} \\int_0^{2\\pi} \\dot{q}(\\nu) dM = \\frac{1}{2\\pi} \\int_0^{2\\pi} \\frac{(1-e^2)^{3/2}}{(1+e\\cos{\\nu})^2}  \\dot{q}(\\nu) d\\nu  $$"
   ]
  },
  {
   "cell_type": "markdown",
   "metadata": {},
   "source": [
    "# Taking into account envelope expansion\n",
    "A simple approach is to assume that the envelope expands homologously, conserving mass. Given an expansion factor $g(t)$, the density $\\rho$ as a function of time and position can be expressed as:\n",
    "\\begin{equation}\n",
    "\\rho(t, r) = \\frac{1}{g(t)^3} \\rho_0\\left(\\frac{r}{g(t)}\\right) \n",
    "\\end{equation}\n",
    "where $\\rho_0$ is the original density at time $t=0$ so that that $g(t=0) = 1$. Intuitively, the density at position $r$ and time $t$ is the density of the original profile at the old position $r' = r / g$, rescaled by a factor $g^3$ in order to conserve the mass. The radius of the envelope at time $t$ is therefore $R(t) = R_0 g(t)$. For a polytropic sphere, the binding energy $B$ is proportional to the inverse of the radius, so that we can write:\n",
    "\n",
    "\\begin{equation}\n",
    "B(t) = \\frac{B_0}{g(t)} \n",
    "\\end{equation}\n",
    "\n",
    "If the orbital energy losses $dE_{\\rm orb}$ contribute to decrease the total binding energy by $dB$, then\n",
    "\\begin{equation}\n",
    "\\dot{B} = - \\dot{g} \\frac{B_0}{g^2} = \\dot{E}_{\\rm orb}\n",
    "\\end{equation}\n",
    "so that the equation for the expansion factor $g(t)$ reads as:\n",
    "\\begin{equation}\n",
    "\\dot{g} = - \\frac{m_{\\rm red}\\mu}{2a^2} \\frac{\\dot{a}}{B_0} g^2\n",
    "\\end{equation}\n",
    "where $m_{\\rm red}$ is the reduced mass. This equation can be integrated alongside the above ones, but requires an initial estimate of the intial binding energy $B_0$. It is possible to use the classic $\\lambda$ parametrization of $B_0$: \n",
    "\n",
    "\\begin{equation}\n",
    "B_0 = \\frac{G \\,M \\, M_{\\rm env}}{\\lambda R} \n",
    "\\end{equation}\n",
    "\n",
    "\n",
    "\n",
    "\n"
   ]
  },
  {
   "cell_type": "markdown",
   "metadata": {},
   "source": [
    "$ \\rho_0 \\propto r^{-\\alpha}$\n",
    "\n",
    "$$ \\rho(t, r) \\propto g^{-k+3} \\rho_0 $$"
   ]
  },
  {
   "cell_type": "markdown",
   "metadata": {},
   "source": [
    "# Case $l=2$, $k=0$\n",
    "\n",
    "\\begin{equation}\n",
    "\\begin{aligned}\n",
    "& \\frac{da}{dt} = - 2 C \\sqrt{a \\,\\mu} \\, \\left(\\frac{1+e^2+2e\\cos{\\nu}}{1-e^2} \\right)^{3/2} \\\\\n",
    "& \\frac{de}{dt} = - 2 C \\sqrt{ \\frac{\\mu}{a}} \\, \\sqrt{1-e^2} \\, \\sqrt{1+e^2+2e\\cos{\\nu}} \\, (e + \\cos{\\nu}) \\\\\n",
    "& \\frac{d\\omega}{dt} = -2 C \\sqrt{\\frac{\\mu}{a}} \\, \\frac{\\sqrt{1+e^2+2e\\cos{\\nu}}}{e \\,\\sqrt{1-e^2}} \\,\\sin{\\nu}  \\\\\n",
    "& \\frac{d\\nu}{dt} = \\frac{(1+e\\cos{\\nu})^2}{(1-e^2)^{3/2}} \\sqrt{\\frac{\\mu}{a^3}} - \\frac{d\\omega}{dt} \\\\\n",
    "\\end{aligned}\n",
    "\\end{equation}"
   ]
  },
  {
   "cell_type": "code",
   "execution_count": 6,
   "metadata": {},
   "outputs": [
    {
     "name": "stdout",
     "output_type": "stream",
     "text": [
      "The autoreload extension is already loaded. To reload it, use:\n",
      "  %reload_ext autoreload\n",
      "['/home/lex/Work/bse/nbody/DynBinEv/macega', '/home/lex/Work/bse/nbody/DynBinEv/src', '/home/lex/Work/bse/nbody/DynBinEv/notebooks', '/home/lex/Work/bse/nbody/DynBinEv/notebooks', '/home/lex/PythonScripts', '/usr/lib64/python39.zip', '/usr/lib64/python3.9', '/usr/lib64/python3.9/lib-dynload', '', '/home/lex/.local/lib/python3.9/site-packages', '/home/lex/.local/lib/python3.9/site-packages/ParsecTK-0.0.3-py3.9.egg', '/usr/lib64/python3.9/site-packages', '/usr/lib/python3.9/site-packages', '/usr/lib/python3.9/site-packages/IPython/extensions', '/home/lex/.ipython']\n"
     ]
    }
   ],
   "source": [
    "%load_ext autoreload\n",
    "%autoreload 2\n",
    "import sys, os, inspect, importlib\n",
    "currentdir = os.path.dirname(os.path.abspath(inspect.getfile(inspect.currentframe())))\n",
    "parentdir = os.path.dirname(currentdir)\n",
    "srcdir = os.path.join(parentdir, \"macega\")\n",
    "if srcdir not in sys.path: sys.path.insert(0, srcdir)\n",
    "print(sys.path)"
   ]
  },
  {
   "cell_type": "code",
   "execution_count": 9,
   "metadata": {},
   "outputs": [
    {
     "name": "stdout",
     "output_type": "stream",
     "text": [
      "Mass units: 2.54495602902e-09 MSun\n",
      "C units: length**-1 * time**0\n",
      "C = 3.9788735773e-06 1.43781452193e-09 * m**-1\n",
      "Period0 = 14.640279552772272 yr\n",
      "Eps_ce/Eps0 99.00000000000001\n",
      "B0: 4.34242138618e+17\n",
      "a/adot = -0.03849 Periods\n",
      "Reached final semimajor axis, halting integration\n",
      "Mass units: 2.54495602902e-09 MSun\n",
      "C units: length**-1 * time**0\n",
      "Period = 14.6402795528 yr\n",
      "Period = 14.6402795528 yr\n",
      "Steps per period: = 0.01\n",
      "Eps_ce/Eps0 99.0\n",
      "C: 3.9788735772973834e-06 1.4378145219266715e-09 * m**-1\n"
     ]
    },
    {
     "ename": "TypeError",
     "evalue": "'bool' object is not callable",
     "output_type": "error",
     "traceback": [
      "\u001b[0;31m---------------------------------------------------------------------------\u001b[0m",
      "\u001b[0;31mTypeError\u001b[0m                                 Traceback (most recent call last)",
      "\u001b[0;32m<ipython-input-9-718f89e65358>\u001b[0m in \u001b[0;36m<module>\u001b[0;34m\u001b[0m\n\u001b[1;32m     24\u001b[0m \u001b[0mCEKickEvolve\u001b[0m \u001b[0;34m=\u001b[0m \u001b[0mMacegaKick\u001b[0m\u001b[0;34m(\u001b[0m\u001b[0ml\u001b[0m\u001b[0;34m=\u001b[0m\u001b[0;36m2\u001b[0m\u001b[0;34m,\u001b[0m \u001b[0mk\u001b[0m\u001b[0;34m=\u001b[0m\u001b[0;36m0\u001b[0m\u001b[0;34m,\u001b[0m \u001b[0mdtkick\u001b[0m\u001b[0;34m=\u001b[0m\u001b[0;36m0.01\u001b[0m\u001b[0;34m)\u001b[0m\u001b[0;34m\u001b[0m\u001b[0;34m\u001b[0m\u001b[0m\n\u001b[1;32m     25\u001b[0m \u001b[0mCEKickEvolve\u001b[0m\u001b[0;34m.\u001b[0m\u001b[0minitialize_model\u001b[0m\u001b[0;34m(\u001b[0m\u001b[0mm1\u001b[0m\u001b[0;34m,\u001b[0m \u001b[0mm2\u001b[0m\u001b[0;34m,\u001b[0m \u001b[0ma0\u001b[0m\u001b[0;34m,\u001b[0m \u001b[0me0\u001b[0m\u001b[0;34m,\u001b[0m \u001b[0mome0\u001b[0m\u001b[0;34m,\u001b[0m \u001b[0mnu0\u001b[0m\u001b[0;34m,\u001b[0m \u001b[0mafin\u001b[0m\u001b[0;34m=\u001b[0m\u001b[0ma1\u001b[0m\u001b[0;34m,\u001b[0m \u001b[0mC\u001b[0m\u001b[0;34m=\u001b[0m\u001b[0mC\u001b[0m\u001b[0;34m)\u001b[0m\u001b[0;34m\u001b[0m\u001b[0;34m\u001b[0m\u001b[0m\n\u001b[0;32m---> 26\u001b[0;31m \u001b[0mt_nb\u001b[0m\u001b[0;34m,\u001b[0m \u001b[0ma_nb\u001b[0m\u001b[0;34m,\u001b[0m \u001b[0me_nb\u001b[0m\u001b[0;34m,\u001b[0m \u001b[0mome_nb\u001b[0m\u001b[0;34m,\u001b[0m \u001b[0mnu_nb\u001b[0m \u001b[0;34m=\u001b[0m \u001b[0mCEKickEvolve\u001b[0m\u001b[0;34m.\u001b[0m\u001b[0mrun_model\u001b[0m\u001b[0;34m(\u001b[0m\u001b[0mtfin\u001b[0m \u001b[0;34m=\u001b[0m \u001b[0mCEKickEvolve\u001b[0m\u001b[0;34m.\u001b[0m\u001b[0mPeriod0\u001b[0m\u001b[0;34m*\u001b[0m\u001b[0;36m20\u001b[0m\u001b[0;34m,\u001b[0m \u001b[0mdt_out\u001b[0m \u001b[0;34m=\u001b[0m \u001b[0mCEKickEvolve\u001b[0m\u001b[0;34m.\u001b[0m\u001b[0mPeriod0\u001b[0m\u001b[0;34m*\u001b[0m\u001b[0;36m0.001\u001b[0m\u001b[0;34m)\u001b[0m\u001b[0;34m\u001b[0m\u001b[0;34m\u001b[0m\u001b[0m\n\u001b[0m",
      "\u001b[0;32m~/Work/bse/nbody/DynBinEv/src/macega_nbody.py\u001b[0m in \u001b[0;36mrun_model\u001b[0;34m(self, tfin, dt_out, tstart, check_collisions)\u001b[0m\n\u001b[1;32m    164\u001b[0m \u001b[0;34m\u001b[0m\u001b[0m\n\u001b[1;32m    165\u001b[0m             \u001b[0;32mif\u001b[0m \u001b[0mcheck_collisions\u001b[0m\u001b[0;34m:\u001b[0m\u001b[0;34m\u001b[0m\u001b[0;34m\u001b[0m\u001b[0m\n\u001b[0;32m--> 166\u001b[0;31m                 \u001b[0mcollision\u001b[0m \u001b[0;34m=\u001b[0m \u001b[0mcheck_collisions\u001b[0m\u001b[0;34m(\u001b[0m\u001b[0mself\u001b[0m\u001b[0;34m.\u001b[0m\u001b[0mstars\u001b[0m\u001b[0;34m)\u001b[0m\u001b[0;34m\u001b[0m\u001b[0;34m\u001b[0m\u001b[0m\n\u001b[0m\u001b[1;32m    167\u001b[0m                 \u001b[0;32mif\u001b[0m \u001b[0mcollision\u001b[0m\u001b[0;34m:\u001b[0m \u001b[0;32mbreak\u001b[0m\u001b[0;34m\u001b[0m\u001b[0;34m\u001b[0m\u001b[0m\n\u001b[1;32m    168\u001b[0m             \u001b[0;32mif\u001b[0m \u001b[0morbital_elements\u001b[0m\u001b[0;34m[\u001b[0m\u001b[0;36m2\u001b[0m\u001b[0;34m]\u001b[0m \u001b[0;34m<\u001b[0m \u001b[0mself\u001b[0m\u001b[0;34m.\u001b[0m\u001b[0mafin\u001b[0m\u001b[0;34m:\u001b[0m \u001b[0;32mbreak\u001b[0m\u001b[0;34m\u001b[0m\u001b[0;34m\u001b[0m\u001b[0m\n",
      "\u001b[0;31mTypeError\u001b[0m: 'bool' object is not callable"
     ]
    }
   ],
   "source": [
    "from macega_phasevol import MacegaPhaseEvolve\n",
    "from macega_nbody import MacegaKick\n",
    "from dynbin_common import make_binary_star, new_option_parser, get_period\n",
    "from amuse.units import units\n",
    "import numpy as np\n",
    "\n",
    "m1, m2 = 15 | units.MSun, 15 | units.MSun\n",
    "a0 = 4000 | units.RSun\n",
    "a1 = 40 | units.RSun\n",
    "e0 = 0.5\n",
    "ome0 = 0.0\n",
    "nu0 = np.pi\n",
    "X = 0.05\n",
    "mu = m1+m2\n",
    "C, Lex, Tex = MacegaPhaseEvolve.C_from_X(X, mu, a0, l=2, k=0)\n",
    "\n",
    "\n",
    "#### SECULAR\n",
    "CEvolve = MacegaPhaseEvolve(l=2, k=0)\n",
    "CEvolve.initialize_system(m1, m2, a0, e0, ome0, nu0, C=C, a1=a1)\n",
    "t, a, e, ome, nu, g = CEvolve.run_system(tfin=CEvolve.Period0*20, dt_out=CEvolve.Period0*0.001)\n",
    "\n",
    "#### NBODY\n",
    "CEKickEvolve = MacegaKick(l=2, k=0, dtkick=0.01)\n",
    "CEKickEvolve.initialize_model(m1, m2, a0, e0, ome0, nu0, afin=a1, C=C)\n",
    "t_nb, a_nb, e_nb, ome_nb, nu_nb = CEKickEvolve.run_model(tfin = CEKickEvolve.Period0*20, dt_out = CEKickEvolve.Period0*0.001)"
   ]
  },
  {
   "cell_type": "code",
   "execution_count": null,
   "metadata": {},
   "outputs": [],
   "source": [
    "from matplotlib import pyplot as plt\n",
    "import seaborn as sns\n",
    "\n",
    "sns.set(font_scale=1.33, rc={'text.usetex' : True})\n",
    "sns.set_style(\"ticks\")\n",
    "\n",
    "f, ax = plt.subplots(4, sharex=True, figsize=(15, 10))\n",
    "\n",
    "ax[0].plot(t, a, lw=2, label=\"2-body perturbation\")\n",
    "ax[0].plot(t_nb, a_nb, lw=2, label=\"nbody\")\n",
    "\n",
    "ax[0].set_ylabel(\"semimajor axis [R$_\\odot$]\")\n",
    "ax[0].axhline(a0.value_in(units.RSun), c=\"black\", ls=\"--\")\n",
    "ax[0].axhline(a1.value_in(units.RSun), c=\"red\", ls=\"--\", label=\"zero eccentricity final orbit\")\n",
    "ax[0].legend()\n",
    "ax[0].set_title(\"e0 = {:g}\".format(e0))\n",
    "ax[0].set_yscale(\"log\")\n",
    "\n",
    "ax[1].plot(t, e, lw=2)\n",
    "ax[1].plot(t_nb, e_nb, lw=2)\n",
    "ax[1].set_ylabel(\"eccentricity\")\n",
    "ax[1].set_xlabel(\"time [yr]\")\n",
    "ax[1].set_ylim(bottom=0)\n",
    "\n",
    "ax[2].plot(t, ome, lw=2)\n",
    "ax[2].plot(t_nb, ome_nb, lw=2)\n",
    "ax[2].set_ylabel(\"$\\\\omega$\")\n",
    "ax[2].set_xlabel(\"time [yr]\")\n",
    "ax[2].set_ylim()\n",
    "\n",
    "ax[3].plot(t, nu, lw=2)\n",
    "ax[3].plot(t_nb, nu_nb, lw=2)\n",
    "ax[3].set_ylabel(\"$\\\\nu$\")\n",
    "ax[3].set_xlabel(\"time [yr]\")\n",
    "ax[3].set_ylim(bottom=0, top=2 * np.pi)\n",
    "\n",
    "f.subplots_adjust(hspace=0)\n",
    "\n",
    "plt.show()"
   ]
  },
  {
   "cell_type": "code",
   "execution_count": null,
   "metadata": {},
   "outputs": [],
   "source": [
    "from matplotlib import pyplot as plt\n",
    "import seaborn as sns\n",
    "\n",
    "sns.set(font_scale=1.33, rc={'text.usetex' : True})\n",
    "sns.set_style(\"ticks\")\n",
    "\n",
    "f, ax = plt.subplots(4, sharex=True, figsize=(15, 10))\n",
    "\n",
    "e0list = [0.1, 0.3, 0.5, 0.7, 0.9]\n",
    "\n",
    "for e0 in e0list:\n",
    "    CEvolve = MacegaPhaseEvolve(l=2, k=0)\n",
    "    CEvolve.initialize_system(m1, m2, a0, e0, ome0, nu0, C=C, a1=a1)\n",
    "    t, a, e, ome, nu, g = CEvolve.run_system(tfin=CEvolve.Period0*100, dt_out=CEvolve.Period0*0.001)\n",
    "\n",
    "    ax[0].plot(t, a, lw=4, alpha=0.8)\n",
    "    ax[1].plot(t, e, lw=2, alpha=0.8)\n",
    "    ax[2].plot(t, ome, lw=2, alpha=0.8)\n",
    "    ax[3].plot(t, nu, lw=2, alpha=0.8)\n",
    "\n",
    "\n",
    "ax[0].set_ylabel(\"semimajor axis [R$_\\odot$]\")\n",
    "ax[0].axhline(a0.value_in(units.RSun), c=\"black\", ls=\"--\")\n",
    "ax[0].axhline(a1.value_in(units.RSun), c=\"red\", ls=\"--\", label=\"zero eccentricity final orbit\")\n",
    "ax[0].legend()\n",
    "\n",
    "ax[0].set_yscale(\"log\")\n",
    "ax[1].set_ylabel(\"eccentricity\")\n",
    "ax[1].set_xlabel(\"time [yr]\")\n",
    "ax[1].set_ylim(bottom=0)\n",
    "\n",
    "ax[2].set_ylabel(\"$\\\\omega$\")\n",
    "ax[2].set_xlabel(\"time [yr]\")\n",
    "ax[2].set_ylim(bottom=0, top=2 * np.pi)\n",
    "\n",
    "ax[3].set_ylabel(\"$\\\\nu$\")\n",
    "ax[3].set_xlabel(\"time [yr]\")\n",
    "ax[3].set_ylim(bottom=0, top=2 * np.pi)\n",
    "\n",
    "f.subplots_adjust(hspace=0)\n",
    "\n",
    "plt.show()\n",
    "#plt.savefig(\"phasedep_l2k0.pdf\")"
   ]
  },
  {
   "cell_type": "markdown",
   "metadata": {},
   "source": [
    "# Case $l=1$, $k=0$\n",
    "\n",
    "\\begin{equation}\n",
    "\\begin{aligned}\n",
    "& \\frac{da}{dt} = - 2 C \\, a \\, \\frac{1 + e^2 + 2e\\cos{\\nu}}{1-e^2} \\\\\n",
    "& \\frac{de}{dt} = - 2 C (1-e^2) \\, (e^2 + e\\cos{\\nu}) (e + \\cos{\\nu}) \\\\\n",
    "& \\frac{d\\omega}{dt} = -\\frac{2 C}{e} \\sin{\\nu} \\\\\n",
    "& \\frac{d\\nu}{dt} = \\frac{(1+e\\cos{\\nu})^2}{(1-e^2)^{3/2}} \\sqrt{\\frac{\\mu}{a^3}} - \\frac{d\\omega}{dt} \\\\\n",
    "\\end{aligned}\n",
    "\\end{equation}"
   ]
  },
  {
   "cell_type": "code",
   "execution_count": null,
   "metadata": {},
   "outputs": [],
   "source": [
    "from macega_phasevol import MacegaPhaseEvolve\n",
    "from amuse.units import units\n",
    "import numpy as np\n",
    "\n",
    "m1, m2 = 15 | units.MSun, 15 | units.MSun\n",
    "a0 = 4000 | units.RSun\n",
    "a1 = 40 | units.RSun\n",
    "e0 = 0.5\n",
    "ome0 = 0.0\n",
    "nu0 = np.pi\n",
    "C = 1e-1\n",
    "\n",
    "#### SECULAR\n",
    "CEvolve = MacegaPhaseEvolve(l=1, k=0)\n",
    "CEvolve.initialize_system(m1, m2, a0, e0, ome0, nu0, C=C, a1=a1)\n",
    "t, a, e, ome, nu = CEvolve.run_system(tfin=CEvolve.Period0*20, dt_out=CEvolve.Period0*0.001)\n",
    "\n",
    "#### NBODY\n",
    "CEKickEvolve = MacegaKick(l=1, k=0, dtkick=0.01)\n",
    "CEKickEvolve.initialize_model(m1, m2, a0, e0, ome0, nu0, afin=a1, C=C)\n",
    "t_nb, a_nb, e_nb, ome_nb, nu_nb = CEKickEvolve.run_model(tfin = CEKickEvolve.Period0*20, dt_out = CEKickEvolve.Period0*0.001)"
   ]
  },
  {
   "cell_type": "code",
   "execution_count": null,
   "metadata": {},
   "outputs": [],
   "source": [
    "from matplotlib import pyplot as plt\n",
    "import seaborn as sns\n",
    "\n",
    "sns.set(font_scale=1.33, rc={'text.usetex' : True})\n",
    "sns.set_style(\"ticks\")\n",
    "\n",
    "f, ax = plt.subplots(4, sharex=True, figsize=(15, 10))\n",
    "\n",
    "ax[0].plot(t, a, lw=2, label=\"2-body perturbation\")\n",
    "ax[0].plot(t_nb, a_nb, lw=2, label=\"nbody\")\n",
    "\n",
    "ax[0].set_ylabel(\"semimajor axis [R$_\\odot$]\")\n",
    "ax[0].axhline(a0.value_in(units.RSun), c=\"black\", ls=\"--\")\n",
    "ax[0].axhline(a1.value_in(units.RSun), c=\"red\", ls=\"--\", label=\"zero eccentricity final orbit\")\n",
    "ax[0].legend()\n",
    "ax[0].set_title(\"e0 = {:g}\".format(e0))\n",
    "ax[0].set_yscale(\"log\")\n",
    "\n",
    "ax[1].plot(t, e, lw=2)\n",
    "ax[1].plot(t_nb, e_nb, lw=2)\n",
    "ax[1].set_ylabel(\"eccentricity\")\n",
    "ax[1].set_xlabel(\"time [yr]\")\n",
    "ax[1].set_ylim(bottom=0)\n",
    "\n",
    "ax[2].plot(t, ome, lw=2)\n",
    "ax[2].plot(t_nb, ome_nb, lw=2)\n",
    "ax[2].set_ylabel(\"$\\\\omega$\")\n",
    "ax[2].set_xlabel(\"time [yr]\")\n",
    "ax[2].set_ylim()\n",
    "\n",
    "ax[3].plot(t, nu, lw=2)\n",
    "ax[3].plot(t_nb, nu_nb, lw=2)\n",
    "ax[3].set_ylabel(\"$\\\\nu$\")\n",
    "ax[3].set_xlabel(\"time [yr]\")\n",
    "ax[3].set_ylim(bottom=0, top=2 * np.pi)\n",
    "\n",
    "f.subplots_adjust(hspace=0)\n",
    "\n",
    "plt.show()"
   ]
  },
  {
   "cell_type": "code",
   "execution_count": 4,
   "metadata": {},
   "outputs": [
    {
     "name": "stdout",
     "output_type": "stream",
     "text": [
      "Mass units: 2.54495602902e-09 MSun\n",
      "C units: length**0 * time**-1\n",
      "C = 1e-05 in 3.16887646218e-08 * s**-1\n",
      "Period0 = 14.640279552772272 yr\n",
      "Eps_ce/Eps0 99.00000000000001\n",
      "B0: 4.34242138618e+17\n",
      "a/adot = -0.000239568 Periods\n"
     ]
    },
    {
     "ename": "ValueError",
     "evalue": "too many values to unpack (expected 5)",
     "output_type": "error",
     "traceback": [
      "\u001b[0;31m---------------------------------------------------------------------------\u001b[0m",
      "\u001b[0;31mValueError\u001b[0m                                Traceback (most recent call last)",
      "\u001b[0;32m<ipython-input-4-09cd36f34060>\u001b[0m in \u001b[0;36m<module>\u001b[0;34m\u001b[0m\n\u001b[1;32m     12\u001b[0m     \u001b[0mCEvolve\u001b[0m \u001b[0;34m=\u001b[0m \u001b[0mMacegaPhaseEvolve\u001b[0m\u001b[0;34m(\u001b[0m\u001b[0ml\u001b[0m\u001b[0;34m=\u001b[0m\u001b[0;36m1\u001b[0m\u001b[0;34m,\u001b[0m \u001b[0mk\u001b[0m\u001b[0;34m=\u001b[0m\u001b[0;36m0\u001b[0m\u001b[0;34m)\u001b[0m\u001b[0;34m\u001b[0m\u001b[0;34m\u001b[0m\u001b[0m\n\u001b[1;32m     13\u001b[0m     \u001b[0mCEvolve\u001b[0m\u001b[0;34m.\u001b[0m\u001b[0minitialize_system\u001b[0m\u001b[0;34m(\u001b[0m\u001b[0mm1\u001b[0m\u001b[0;34m,\u001b[0m \u001b[0mm2\u001b[0m\u001b[0;34m,\u001b[0m \u001b[0ma0\u001b[0m\u001b[0;34m,\u001b[0m \u001b[0me0\u001b[0m\u001b[0;34m,\u001b[0m \u001b[0mome0\u001b[0m\u001b[0;34m,\u001b[0m \u001b[0mnu0\u001b[0m\u001b[0;34m,\u001b[0m \u001b[0mC\u001b[0m\u001b[0;34m=\u001b[0m\u001b[0mC\u001b[0m\u001b[0;34m,\u001b[0m \u001b[0ma1\u001b[0m\u001b[0;34m=\u001b[0m\u001b[0ma1\u001b[0m\u001b[0;34m)\u001b[0m\u001b[0;34m\u001b[0m\u001b[0;34m\u001b[0m\u001b[0m\n\u001b[0;32m---> 14\u001b[0;31m     \u001b[0mt\u001b[0m\u001b[0;34m,\u001b[0m \u001b[0ma\u001b[0m\u001b[0;34m,\u001b[0m \u001b[0me\u001b[0m\u001b[0;34m,\u001b[0m \u001b[0mome\u001b[0m\u001b[0;34m,\u001b[0m \u001b[0mnu\u001b[0m \u001b[0;34m=\u001b[0m \u001b[0mCEvolve\u001b[0m\u001b[0;34m.\u001b[0m\u001b[0mrun_system\u001b[0m\u001b[0;34m(\u001b[0m\u001b[0mtfin\u001b[0m\u001b[0;34m=\u001b[0m\u001b[0mCEvolve\u001b[0m\u001b[0;34m.\u001b[0m\u001b[0mPeriod0\u001b[0m\u001b[0;34m*\u001b[0m\u001b[0;36m100\u001b[0m\u001b[0;34m,\u001b[0m \u001b[0mdt_out\u001b[0m\u001b[0;34m=\u001b[0m\u001b[0mCEvolve\u001b[0m\u001b[0;34m.\u001b[0m\u001b[0mPeriod0\u001b[0m\u001b[0;34m*\u001b[0m\u001b[0;36m0.001\u001b[0m\u001b[0;34m)\u001b[0m\u001b[0;34m\u001b[0m\u001b[0;34m\u001b[0m\u001b[0m\n\u001b[0m\u001b[1;32m     15\u001b[0m \u001b[0;34m\u001b[0m\u001b[0m\n\u001b[1;32m     16\u001b[0m     \u001b[0max\u001b[0m\u001b[0;34m[\u001b[0m\u001b[0;36m0\u001b[0m\u001b[0;34m]\u001b[0m\u001b[0;34m.\u001b[0m\u001b[0mplot\u001b[0m\u001b[0;34m(\u001b[0m\u001b[0mt\u001b[0m\u001b[0;34m,\u001b[0m \u001b[0ma\u001b[0m\u001b[0;34m,\u001b[0m \u001b[0mlw\u001b[0m\u001b[0;34m=\u001b[0m\u001b[0;36m4\u001b[0m\u001b[0;34m,\u001b[0m \u001b[0malpha\u001b[0m\u001b[0;34m=\u001b[0m\u001b[0;36m0.8\u001b[0m\u001b[0;34m)\u001b[0m\u001b[0;34m\u001b[0m\u001b[0;34m\u001b[0m\u001b[0m\n",
      "\u001b[0;31mValueError\u001b[0m: too many values to unpack (expected 5)"
     ]
    },
    {
     "data": {
      "image/png": "[encoded data removed]",
      "text/plain": [
       "<Figure size 1080x720 with 4 Axes>"
      ]
     },
     "metadata": {},
     "output_type": "display_data"
    }
   ],
   "source": [
    "from matplotlib import pyplot as plt\n",
    "import seaborn as sns\n",
    "\n",
    "sns.set(font_scale=1.33, rc={'text.usetex' : True})\n",
    "sns.set_style(\"ticks\")\n",
    "\n",
    "f, ax = plt.subplots(4, sharex=True, figsize=(15, 10))\n",
    "\n",
    "e0list = [0.1, 0.3, 0.5, 0.7, 0.9]\n",
    "\n",
    "for e0 in e0list:\n",
    "    CEvolve = MacegaPhaseEvolve(l=1, k=0)\n",
    "    CEvolve.initialize_system(m1, m2, a0, e0, ome0, nu0, C=C, a1=a1)\n",
    "    t, a, e, ome, nu = CEvolve.run_system(tfin=CEvolve.Period0*100, dt_out=CEvolve.Period0*0.001)\n",
    "\n",
    "    ax[0].plot(t, a, lw=4, alpha=0.8)\n",
    "    ax[1].plot(t, e, lw=2, alpha=0.8)\n",
    "    ax[2].plot(t, ome, lw=2, alpha=0.8)\n",
    "    ax[3].plot(t, nu, lw=2, alpha=0.8)\n",
    "\n",
    "\n",
    "ax[0].set_ylabel(\"semimajor axis [R$_\\odot$]\")\n",
    "ax[0].axhline(a0.value_in(units.RSun), c=\"black\", ls=\"--\")\n",
    "ax[0].axhline(a1.value_in(units.RSun), c=\"red\", ls=\"--\", label=\"zero eccentricity final orbit\")\n",
    "ax[0].legend()\n",
    "\n",
    "ax[0].set_yscale(\"log\")\n",
    "ax[1].set_ylabel(\"eccentricity\")\n",
    "ax[1].set_xlabel(\"time [yr]\")\n",
    "ax[1].set_ylim(bottom=0)\n",
    "\n",
    "ax[2].set_ylabel(\"$\\\\omega$\")\n",
    "ax[2].set_xlabel(\"time [yr]\")\n",
    "ax[2].set_ylim(bottom=0, top=2 * np.pi)\n",
    "\n",
    "ax[3].set_ylabel(\"$\\\\nu$\")\n",
    "ax[3].set_xlabel(\"time [yr]\")\n",
    "ax[3].set_ylim(bottom=0, top=2 * np.pi)\n",
    "\n",
    "f.subplots_adjust(hspace=0)\n",
    "\n",
    "plt.show()"
   ]
  },
  {
   "cell_type": "markdown",
   "metadata": {},
   "source": [
    "# Generic $l$, $k$"
   ]
  },
  {
   "cell_type": "code",
   "execution_count": null,
   "metadata": {},
   "outputs": [],
   "source": [
    "from macega_phasevol import MacegaPhaseEvolve\n",
    "from macega_nbody import MacegaKick\n",
    "from amuse.units import units, constants\n",
    "import numpy as np\n",
    "\n",
    "m1, m2 = 35 | units.MSun, 82 | units.MSun\n",
    "a0 = 4000 | units.RSun\n",
    "a1 = 40 | units.RSun\n",
    "e0 = 0.2\n",
    "ome0 = 0.0\n",
    "nu0 = np.pi\n",
    "\n",
    "mu = (m1 + m2)*constants.G\n",
    "C = 1e-5\n",
    "X = 0.1\n",
    "C_l2k0, Lex, Tex = MacegaPhaseEvolve.C_from_X(X, mu, a0, l=2, k=0)\n",
    "print(\"C:\", C_l2k0.as_string_in(units.yr**Tex *units.RSun**Lex))\n",
    "\n",
    "#### SECULAR l=2, k=0\n",
    "CEvolve = MacegaPhaseEvolve(l=2, k=0)\n",
    "CEvolve.initialize_system(m1, m2, a0, e0, ome0, nu0, C=C, a1=a1)\n",
    "t, a, e, ome, nu, g = CEvolve.run_system(tfin=CEvolve.Period0*20, dt_out=CEvolve.Period0*0.001)\n",
    "\n",
    "#### SECULAR l,k\n",
    "l_g, k_g = 2, 0\n",
    "CEvolve = MacegaPhaseEvolve(l=l_g, k=k_g, force_generic=True)\n",
    "CEvolve.initialize_system(m1, m2, a0, e0, ome0, nu0, C=C, a1=a1)\n",
    "t_g, a_g, e_g, ome_g, nu_g, g = CEvolve.run_system(tfin=CEvolve.Period0*20, dt_out=CEvolve.Period0*0.001)"
   ]
  },
  {
   "cell_type": "code",
   "execution_count": null,
   "metadata": {},
   "outputs": [],
   "source": [
    "#### NBODY l=2, k=0\n",
    "CEKickEvolve = MacegaKick(l=2, k=0, dtkick=0.01)\n",
    "CEKickEvolve.initialize_model(m1, m2, a0, e0, ome0, nu0, afin=a1, C=C)\n",
    "t_nb, a_nb, e_nb, ome_nb, nu_nb = CEKickEvolve.run_model(tfin = CEKickEvolve.Period0*20, dt_out = CEKickEvolve.Period0*0.001, check_collisions=False)"
   ]
  },
  {
   "cell_type": "code",
   "execution_count": null,
   "metadata": {},
   "outputs": [],
   "source": [
    "from matplotlib import pyplot as plt\n",
    "import seaborn as sns\n",
    "\n",
    "sns.set(font_scale=1.44, rc={'text.usetex' : True})\n",
    "sns.set_style(\"ticks\")\n",
    "\n",
    "f, ax = plt.subplots(4, sharex=True, figsize=(15, 10))\n",
    "\n",
    "ax[0].plot(t, a, lw=2, label=\"Perturbative equations ($l=2$, $k=0$)\")\n",
    "ax[0].plot(t_g, a_g, lw=2, label=\"Perturbative equations (general $l,k$ implementation), l={:g}, k={:g}\".format(l_g, k_g))\n",
    "ax[0].plot(t_nb, a_nb, lw=2, alpha=0.66, label=\"$N$-body integration ($l=2$, $k=0$)\")\n",
    "\n",
    "ax[0].set_ylabel(\"$a$ [R$_\\odot$]\")\n",
    "ax[0].axhline(a0.value_in(units.RSun), c=\"black\", ls=\"--\")\n",
    "ax[0].axhline(a1.value_in(units.RSun), c=\"red\", ls=\"--\", label=\"zero eccentricity final orbit\")\n",
    "ax[0].legend()\n",
    "ax[0].set_title(\"e0 = {:g}\".format(e0))\n",
    "ax[0].set_yscale(\"log\")\n",
    "\n",
    "ax[1].plot(t, e, lw=2)\n",
    "ax[1].plot(t_g, e_g, lw=2)\n",
    "ax[1].plot(t_nb, e_nb, lw=2, alpha=0.66, label=\"$N$-body integration ($l=2$, $k=0$)\")\n",
    "ax[1].set_ylabel(\"$e$\")\n",
    "ax[1].set_xlabel(\"time [yr]\")\n",
    "ax[1].set_ylim(bottom=0)\n",
    "\n",
    "ax[2].plot(t, ome, lw=2)\n",
    "ax[2].plot(t_g, ome_g, lw=2)\n",
    "ax[2].plot(t_nb, ome_nb, lw=2, alpha=0.66)\n",
    "ax[2].set_ylabel(\"$\\\\omega$\")\n",
    "ax[2].set_xlabel(\"time [yr]\")\n",
    "ax[2].set_ylim()\n",
    "\n",
    "ax[3].plot(t, nu, lw=2)\n",
    "ax[3].plot(t_g, nu_g, lw=2)\n",
    "ax[3].plot(t_nb, nu_nb, lw=2, alpha=0.66)\n",
    "ax[3].set_ylabel(\"$\\\\nu$\")\n",
    "ax[3].set_xlabel(\"time [yr]\")\n",
    "ax[3].set_ylim(bottom=0, top=2 * np.pi)\n",
    "plt.tight_layout()\n",
    "\n",
    "\n",
    "f.subplots_adjust(hspace=0)\n",
    "\n",
    "plt.show()"
   ]
  },
  {
   "cell_type": "code",
   "execution_count": null,
   "metadata": {},
   "outputs": [],
   "source": [
    "from amuse.units import units, constants\n",
    "import numpy as np\n",
    "from matplotlib import pyplot as plt\n",
    "import seaborn as sns\n",
    "import scipy.interpolate as interpolate\n",
    "sns.set(rc={'text.usetex' : True}, font_scale=1.5)\n",
    "sns.set_style(\"ticks\")\n",
    "\n",
    "fname = \"../data/auto_redcurve.csv\"\n",
    "teburu = np.loadtxt(fname, delimiter=\",\")\n",
    "teburu = teburu.T\n",
    "\n",
    "t_d, a_d = teburu[0], teburu[1]\n",
    "f, ax = plt.subplots(1, sharex=True, figsize=(11, 7))\n",
    "\n",
    "tbegin = 4750\n",
    "tfin = 4857\n",
    "\n",
    "asim_interpfunc = interpolate.interp1d(t_d, a_d)\n",
    "\n",
    "ax.plot(t_d, a_d, lw=3, ls=\"--\", label=\"hydrodynamic simulation\")\n",
    "\n",
    "tspan = np.linspace(0, tfin - tbegin, 100) | units.day\n",
    "\n",
    "def C_analytic(ai, af, mu, dt, m, l):\n",
    "    C = ai**(1-m) - af**(1-m)\n",
    "    C = C / (2 * (1-m) * dt * mu ** ((l-1)/2) )\n",
    "    return C\n",
    "\n",
    "def a_analytic(t, a0, C, mu, m, l):\n",
    "    a = a0**(1-m) - 2 * (1-m) * C * mu ** ((l-1)/2) * t\n",
    "    a = a**(1/(1-m))\n",
    "    return a\n",
    "    \n",
    "m1, m2 = 0.88 | units.MSun, 0.6 | units.MSun\n",
    "a0 = asim_interpfunc(tbegin) | units.RSun\n",
    "a1 = asim_interpfunc(tfin) | units.RSun\n",
    "mu = (m1 + m2)*constants.G\n",
    "\n",
    "for k in range(5):\n",
    "    l = 2\n",
    "    m = (3-l -2*k)/2\n",
    "    C_anal = C_analytic(a0, a1, mu, (tfin-tbegin) | units.day, m, l)\n",
    "    print(C_anal)\n",
    "\n",
    "    a_an = a_analytic(tspan, a0, C_anal, mu, m, l)\n",
    "\n",
    "    ax.plot(tbegin+tspan.value_in(units.day), a_an.value_in(units.RSun), lw=5, label=\"l=2, k={:g}\".format(k), alpha=0.7)\n",
    "\n",
    "ax.set_title(\"data\")\n",
    "#ax.set_yscale(\"log\")\n",
    "ax.set_ylabel(\"semimajor axis [R$_\\odot$]\")\n",
    "ax.set_xlabel(\"time [day]\")\n",
    "ax.set_xlim(4600, 4950)\n",
    "ax.set_ylim(25, 150)\n",
    "ax.legend()\n",
    "\n",
    "f.subplots_adjust(hspace=0)\n",
    "\n",
    "#plt.savefig(\"reich.png\", dpi=150)\n",
    "plt.show()\n"
   ]
  },
  {
   "cell_type": "code",
   "execution_count": null,
   "metadata": {},
   "outputs": [],
   "source": [
    "from amuse.units import units, constants\n",
    "import numpy as np\n",
    "from matplotlib import pyplot as plt\n",
    "import seaborn as sns\n",
    "import scipy.integrate as integrate\n",
    "import scipy.interpolate as interpolate\n",
    "sns.set(rc={'text.usetex' : True}, font_scale=1.5)\n",
    "sns.set_style(\"ticks\")\n",
    "\n",
    "fname = \"../../CEdata/profile_M088.csv\"\n",
    "teburu = np.loadtxt(fname, delimiter=\",\")\n",
    "teburu = teburu.T\n",
    "\n",
    "rad, rho = teburu[0], teburu[1]\n",
    "f, ax = plt.subplots(1, sharex=True, figsize=(11, 7))\n",
    "\n",
    "rsun_to_cm = (1 | units.RSun).value_in(units.cm)\n",
    "cm_to_rsun = 1/rsun_to_cm\n",
    "msun_to_g = (1 | units.MSun).value_in(units.g)\n",
    "g_to_msun = 1/msun_to_g\n",
    "\n",
    "rhofunc = interpolate.interp1d(rad, rho)\n",
    "\n",
    "rho_usun = rho * g_to_msun / cm_to_rsun**3\n",
    "print(rho_usun)\n",
    "mass_integral = rho_usun * 4 * np.pi * rad**2\n",
    "\n",
    "totalmass = integrate.simpson(mass_integral, rad)\n",
    "print(totalmass)\n",
    "\n",
    "ax.plot(rad, rho, lw=3, ls=\"--\", label=\"0.88 M$_\\odot$\")\n",
    "\n",
    "xmin = 30\n",
    "xmax = 80\n",
    "y0 = rhofunc(xmin)\n",
    "xrang = np.linspace(xmin, xmax)\n",
    "\n",
    "for k in range(4):\n",
    "    off = 30/(10*(k+1))\n",
    "    yrang = off * y0 * (xrang/xmin)**-k\n",
    "    ax.plot(xrang, yrang, lw=3, ls=\"-\", label=\"r$^{{-{:d}}}$\".format(k), alpha=0.7)\n",
    "\n",
    "\n",
    "Hr = 0.44\n",
    "yexp = 7*y0*np.exp(-xrang/Hr/xmin)    \n",
    "ax.plot(xrang, yexp, lw=3, ls=\"-\", label=\"exp\", alpha=0.7)\n",
    "\n",
    "    \n",
    "ax.set_ylim(bottom=1e-7, top=1e-4)\n",
    "ax.set_xlim(left=10)\n",
    "#ax.set_xscale(\"log\")\n",
    "ax.set_yscale(\"log\")\n",
    "ax.set_ylabel(\"$\\\\rho$ [g cm$^{-3}$]\")\n",
    "ax.set_xlabel(\"radius [R$_\\odot$]\")\n",
    "ax.legend()\n",
    "\n",
    "f.subplots_adjust(hspace=0)\n",
    "plt.savefig(\"giantprof.png\", dpi=150)\n",
    "\n",
    "plt.show()"
   ]
  },
  {
   "cell_type": "code",
   "execution_count": null,
   "metadata": {},
   "outputs": [],
   "source": [
    "from amuse.units import units, constants\n",
    "import numpy as np\n",
    "from matplotlib import pyplot as plt\n",
    "import seaborn as sns\n",
    "import scipy.interpolate as interpolate\n",
    "\n",
    "sns.set(rc={'text.usetex' : True}, font_scale=1.5)\n",
    "sns.set_style(\"ticks\")\n",
    "\n",
    "def load_ex_data(fname):\n",
    "    teburu = np.loadtxt(fname, delimiter=\",\", usecols=(0,1))\n",
    "    teburu = teburu.T\n",
    "    x, y = teburu[0], teburu[1]\n",
    "    argso = x.argsort()\n",
    "    return x[argso], y[argso]\n",
    "\n",
    "fname = \"../../CEdata/insp_a.csv\"\n",
    "t_a, a = load_ex_data(fname)\n",
    "\n",
    "fname = \"../../CEdata/insp_fd_anal.csv\"\n",
    "t_fd_an, fd_an = load_ex_data(fname)\n",
    "\n",
    "fname = \"../../CEdata/insp_fd_angmom.csv\"\n",
    "t_fd_am, fd_am = load_ex_data(fname)\n",
    "\n",
    "fname = \"../../CEdata/insp_fd_grav.csv\"\n",
    "t_fd_grav, fd_grav = load_ex_data(fname)\n",
    "\n",
    "\n",
    "f, ax = plt.subplots(1, sharex=True, figsize=(11, 7))\n",
    "\n",
    "ax.plot(t_fd_an, -fd_an, lw=3, c=\"tab:red\")\n",
    "ax.plot(t_fd_am, -fd_am, lw=3, c=\"tab:green\")\n",
    "ax.plot(t_fd_grav, -fd_grav, lw=3, c=\"tab:blue\")\n",
    "\n",
    "axb=ax.twinx()\n",
    "axb.plot(t_a, a, lw=3, c=\"black\")\n",
    "\n",
    "tspan = np.linspace(t_a.min(), t_a.max(), 100)\n",
    "aspan = np.linspace(a.min(), a.max(), 100)\n",
    "\n",
    "t_from_a = interpolate.interp1d(a, t_a)\n",
    "t_funca = t_from_a(aspan)\n",
    "\n",
    "fd_from_t = interpolate.interp1d(t_fd_am, -fd_am, fill_value=\"extrapolate\")\n",
    "\n",
    "fd = fd_from_t(t_funca)\n",
    "\n",
    "axb.set_ylabel(\"semimajor axis [R$_\\odot$]\")\n",
    "ax.set_ylabel(\"drag force\")\n",
    "\n",
    "\n",
    "f2, ax2 = plt.subplots(1, sharex=True, figsize=(11, 7))\n",
    "\n",
    "ax2.plot(aspan, fd, ls=\"--\", lw=3)\n",
    "\n",
    "xmin = 45\n",
    "xmax = 120\n",
    "y0 = fd_from_t(t_from_a(xmin))\n",
    "xrang = np.linspace(xmin, xmax)\n",
    "\n",
    "for k in range(4):\n",
    "    off = 1/((k+1))\n",
    "    yrang = off * y0 * (xrang/xmin)**-k\n",
    "    ax2.plot(xrang, yrang, lw=3, ls=\"-\", label=\"r$^{{-{:d}}}$\".format(k), alpha=0.7)\n",
    "\n",
    "    \n",
    "fname = \"../../CEdata/profile_M088.csv\"\n",
    "teburu = np.loadtxt(fname, delimiter=\",\")\n",
    "teburu = teburu.T\n",
    "\n",
    "rad, rho = teburu[0], teburu[1]\n",
    "ext = rad>20\n",
    "\n",
    "#ax.set_title(\"data\")\n",
    "ax2.set_yscale(\"log\")\n",
    "#ax2.set_xscale(\"log\")\n",
    "ax2.set_xlabel(\"separation [R$_\\odot$]\")\n",
    "ax2.set_ylabel(\"drag force\")\n",
    "#ax.set_xlim(4600, 4950)\n",
    "#ax.set_ylim(25, 150)\n",
    "ax.legend()\n",
    "ax2.legend()\n",
    "\n",
    "ax2b = ax2.twinx()\n",
    "ax2b.plot(rad[ext], rho[ext], c=\"grey\", label=\"density\")\n",
    "ax2b.set_yscale(\"log\")\n",
    "\n",
    "\n",
    "f.subplots_adjust(hspace=0)\n",
    "\n",
    "plt.show()"
   ]
  },
  {
   "cell_type": "code",
   "execution_count": null,
   "metadata": {},
   "outputs": [],
   "source": [
    "from macega_phasevol import MacegaPhaseEvolve\n",
    "from macega_nbody import MacegaKick\n",
    "from amuse.units import units, constants\n",
    "import numpy as np\n",
    "\n",
    "m1, m2 = 0.88 | units.MSun, 0.6 | units.MSun\n",
    "a0 = 218 | units.RSun\n",
    "a1 = 28 | units.RSun\n",
    "e0 = 1e-4\n",
    "ome0 = 0.0\n",
    "nu0 = np.pi\n",
    "\n",
    "mu = (m1 + m2)*constants.G\n",
    "C = 1e-5\n",
    "X = 0.05\n",
    "C_l2k0, Lex, Tex = MacegaPhaseEvolve.C_from_X(X, mu, a0, l=2, k=1)\n",
    "#print(\"C:\", C_l2k0.as_string_in(units.yr**Tex *units.RSun**Lex))\n",
    "\n",
    "#### SECULAR l=2, k=0\n",
    "CEvolve = MacegaPhaseEvolve(l=2, k=1, evolveC=True)\n",
    "CEvolve.initialize_system(m1, m2, a0, e0, ome0, nu0, C=C_l2k0, a1=a1)\n",
    "t, a, e, ome, nu, g = CEvolve.run_system(tfin=CEvolve.Period0*20, dt_out=CEvolve.Period0*0.001)\n",
    "\n",
    "#### SECULAR l,k\n",
    "l_g, k_g = 2, 1\n",
    "lambd_g = 5\n",
    "C_g, Lex, Tex = MacegaPhaseEvolve.C_from_X(X, mu, a0, l=l_g, k=k_g)\n",
    "CEvolve = MacegaPhaseEvolve(l=l_g, k=k_g, force_generic=True, evolveC=True)\n",
    "CEvolve.initialize_system(m1, m2, a0, e0, ome0, nu0, C=C_g, a1=a1, lambd=lambd_g)\n",
    "t_g, a_g, e_g, ome_g, nu_g, g_g = CEvolve.run_system(tfin=CEvolve.Period0*20, dt_out=CEvolve.Period0*0.001)"
   ]
  },
  {
   "cell_type": "code",
   "execution_count": null,
   "metadata": {},
   "outputs": [],
   "source": [
    "f, ax = plt.subplots(3, sharex=True, figsize=(15, 10))\n",
    "\n",
    "ax[0].plot(t, a, lw=2, label=\"2-body perturbation, l=2, k=0\")\n",
    "ax[0].plot(t_g, a_g, lw=2, label=\"2-body perturbation generic, l={:g}, k={:g}\".format(l_g, k_g))\n",
    "\n",
    "ax[0].set_ylabel(\"semimajor axis [RSun]\")\n",
    "ax[0].axhline(a0.value_in(units.RSun), c=\"black\", ls=\"--\")\n",
    "ax[0].axhline(a1.value_in(units.RSun), c=\"red\", ls=\"--\", label=\"zero eccentricity final orbit\")\n",
    "ax[0].legend()\n",
    "ax[0].set_title(\"e0 = {:g}\".format(e0))\n",
    "ax[0].set_yscale(\"log\")\n",
    "\n",
    "ax[1].plot(t, e, lw=2)\n",
    "ax[1].plot(t_g, e_g, lw=2)\n",
    "ax[1].set_ylabel(\"eccentricity\")\n",
    "ax[1].set_xlabel(\"time [yr]\")\n",
    "ax[1].set_ylim(bottom=0)\n",
    "\n",
    "ax[2].plot(t, g, lw=2)\n",
    "ax[2].plot(t_g, g_g, lw=2, label=\"lambda={:g}\".format(lambd_g))\n",
    "ax[2].set_ylabel(\"g factor\")\n",
    "ax[2].set_xlabel(\"time [yr]\")\n",
    "ax[2].set_ylim(bottom=0)\n",
    "ax[2].legend()\n",
    "\n",
    "f.subplots_adjust(hspace=0)\n",
    "\n",
    "plt.show()"
   ]
  },
  {
   "cell_type": "code",
   "execution_count": null,
   "metadata": {},
   "outputs": [],
   "source": []
  }
 ],
 "metadata": {
  "kernelspec": {
   "display_name": "Python 3",
   "language": "python",
   "name": "python3"
  },
  "language_info": {
   "codemirror_mode": {
    "name": "ipython",
    "version": 3
   },
   "file_extension": ".py",
   "mimetype": "text/x-python",
   "name": "python",
   "nbconvert_exporter": "python",
   "pygments_lexer": "ipython3",
   "version": "3.9.7"
  }
 },
 "nbformat": 4,
 "nbformat_minor": 4
}
